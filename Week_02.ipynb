{
  "nbformat": 4,
  "nbformat_minor": 0,
  "metadata": {
    "colab": {
      "provenance": []
    },
    "kernelspec": {
      "name": "python3",
      "display_name": "Python 3"
    },
    "language_info": {
      "name": "python"
    }
  },
  "cells": [
    {
      "cell_type": "markdown",
      "source": [
        "# PY4E CH.1 Introduction\n",
        "## 1. Motivation: Why should you learn to write programs?\n"
      ],
      "metadata": {
        "id": "FsimXpZUZleQ"
      }
    },
    {
      "cell_type": "markdown",
      "source": [
        "Our computers are fast and have vast amounts of memory and could be very helpful to us if we only knew the language to speak to explain to the computer what we would like it to “do next”. If we knew this language, we could tell the computer to do tasks on our behalf that were repetitive. Interestingly, the kinds of things computers can do best are often the kinds of things that we humans find boring and mind-numbing."
      ],
      "metadata": {
        "id": "rCICca8xiJ5I"
      }
    },
    {
      "cell_type": "markdown",
      "source": [
        "For example, look at the first three paragraphs of this chapter and tell me the most commonly used word and how many times the word is used. While you were able to read and understand the words in a few seconds, counting them is almost painful because it is not the kind of problem that human minds are designed to solve. For a computer, the opposite is true, reading and understanding text from a piece of paper is hard for a computer to do but counting the words and telling you how many times the most used word was used is very easy for the computer:"
      ],
      "metadata": {
        "id": "LjgyhGZ0ikHY"
      }
    },
    {
      "cell_type": "markdown",
      "source": [
        "### Understanding programming"
      ],
      "metadata": {
        "id": "F9s2dNMqjd1Q"
      }
    },
    {
      "cell_type": "markdown",
      "source": [
        "we will try to turn you into a person who is skilled in the art of programming. In the end you will be a programmer - perhaps not a professional programmer, but at least you will have the skills to look at a data/information analysis problem and develop a program to solve the problem.\n",
        "\n",
        "In a sense, you need two skills to be a programmer:\n",
        "\n",
        "* First, you need to know the programming language (Python) - you need to know the vocabulary and the grammar.\n",
        "\n",
        "* Second, you need to “tell a story”. In writing a story, you combine words and sentences to convey an idea to the reader. In programming, our program is the “story” and the problem you are trying to solve is the “idea”."
      ],
      "metadata": {
        "id": "Cnxl--rLjiRQ"
      }
    },
    {
      "cell_type": "markdown",
      "source": [
        "## 2. Computer hardware architecture"
      ],
      "metadata": {
        "id": "uQOY-Q5Ftlip"
      }
    },
    {
      "cell_type": "markdown",
      "source": [
        "![arch.svg](data:image/svg+xml;base64,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)"
      ],
      "metadata": {
        "id": "uqXtk41LtobB"
      }
    },
    {
      "cell_type": "markdown",
      "source": [
        "**The Central Processing Unit (or CPU)** is the part of the computer that is built to be obsessed with “what is next?” If your computer is rated at 3.0 Gigahertz, it means that the CPU will ask “What next?” three billion times per second.\n",
        "\n",
        "**The Main Memory** is used to store information that the CPU needs in a hurry. The main memory is nearly as fast as the CPU. But the information stored in the main memory vanishes when the computer is turned off.\n",
        "\n",
        "**The Secondary Memory** is also used to store information, but it is much slower than the main memory. The advantage of the secondary memory is that it can store information even when there is no power to the computer. Examples of secondary memory are disk drives or flash memory (typically found in USB sticks and portable music players).\n",
        "\n",
        "**The Input and Output Devices** are simply our screen, keyboard, mouse, microphone, speaker, touchpad, etc. They are all of the ways we interact with the computer.\n",
        "\n",
        "These days, most computers also have a **Network Connection** to retrieve information over a network."
      ],
      "metadata": {
        "id": "jcF7jzH7w6Fx"
      }
    },
    {
      "cell_type": "markdown",
      "source": [
        "You need to be the person who answers the CPU’s “What next?” question. You must write down your instructions in advance. We call these stored instructions a *program* and the act of writing these instructions down and getting the instructions to be correct programming."
      ],
      "metadata": {
        "id": "FQPEr41Wxskq"
      }
    },
    {
      "cell_type": "markdown",
      "source": [
        "![arch2.svg](data:image/svg+xml;base64,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)"
      ],
      "metadata": {
        "id": "i40TJ8nZyJqJ"
      }
    },
    {
      "cell_type": "markdown",
      "source": [
        "\n",
        "## 3. What is a program?"
      ],
      "metadata": {
        "id": "URTGWcGrsMP4"
      }
    },
    {
      "cell_type": "markdown",
      "source": [
        "### Words and sentences"
      ],
      "metadata": {
        "id": "TcrhG4Y6j4wI"
      }
    },
    {
      "cell_type": "markdown",
      "source": [
        "The reserved words in the language where humans talk to Python include the following:"
      ],
      "metadata": {
        "id": "VTbrtlcRkU2w"
      }
    },
    {
      "cell_type": "code",
      "source": [
        "keywords = [\n",
        "    [\"False\", \"await\", \"else\", \"import\", \"pass\"],\n",
        "    [\"None\", \"break\", \"except\", \"in\", \"raise\"],\n",
        "    [\"True\", \"class\", \"finally\", \"is\", \"return\"],\n",
        "    [\"and\", \"continue\", \"for\", \"lambda\", \"try\"],\n",
        "    [\"as\", \"def\", \"from\", \"nonlocal\", \"while\"],\n",
        "    [\"assert\", \"del\", \"global\", \"not\", \"with\"],\n",
        "    [\"async\", \"elif\", \"if\", \"or\", \"yield\"]\n",
        "]\n",
        "\n",
        "for row in keywords:\n",
        "    print(\" | \".join(row))"
      ],
      "metadata": {
        "colab": {
          "base_uri": "https://localhost:8080/"
        },
        "id": "71KrWcypjdGR",
        "outputId": "002e171b-5930-496a-d3a7-67796dd028b5"
      },
      "execution_count": null,
      "outputs": [
        {
          "output_type": "stream",
          "name": "stdout",
          "text": [
            "False | await | else | import | pass\n",
            "None | break | except | in | raise\n",
            "True | class | finally | is | return\n",
            "and | continue | for | lambda | try\n",
            "as | def | from | nonlocal | while\n",
            "assert | del | global | not | with\n",
            "async | elif | if | or | yield\n"
          ]
        }
      ]
    },
    {
      "cell_type": "markdown",
      "source": [
        "We will learn these reserved words and how they are used in good time, but for now we will focus on the Python equivalent of “speak” (in human-to-dog language). The nice thing about telling Python to speak is that we can even tell it what to say by giving it a message in quotes:"
      ],
      "metadata": {
        "id": "3CAWxCvYlpYA"
      }
    },
    {
      "cell_type": "code",
      "source": [
        "print('Hello world!')\n"
      ],
      "metadata": {
        "colab": {
          "base_uri": "https://localhost:8080/"
        },
        "id": "PswJaoS6iKtQ",
        "outputId": "eb4c27d9-e650-4274-9de1-ce024613b1c1"
      },
      "execution_count": null,
      "outputs": [
        {
          "output_type": "stream",
          "name": "stdout",
          "text": [
            "Hello world!\n"
          ]
        }
      ]
    },
    {
      "cell_type": "markdown",
      "source": [
        "### Conversing with Python"
      ],
      "metadata": {
        "id": "z8AiJFU_mF-T"
      }
    },
    {
      "cell_type": "markdown",
      "source": [
        "Let’s say for example that you did not know even the simplest Python language words or sentences. You might want to use the standard line that astronauts use when they land on a faraway planet and try to speak with the inhabitants of the planet:"
      ],
      "metadata": {
        "id": "RzDuHYNZm-Cp"
      }
    },
    {
      "cell_type": "code",
      "source": [
        "I come in peace, please take me to your leader"
      ],
      "metadata": {
        "colab": {
          "base_uri": "https://localhost:8080/",
          "height": 106
        },
        "id": "LudhrhXMl_oT",
        "outputId": "6f947db5-a870-40d6-ed4e-d95bb02d75f5"
      },
      "execution_count": null,
      "outputs": [
        {
          "output_type": "error",
          "ename": "SyntaxError",
          "evalue": "invalid syntax (<ipython-input-6-88cc84e0a278>, line 1)",
          "traceback": [
            "\u001b[0;36m  File \u001b[0;32m\"<ipython-input-6-88cc84e0a278>\"\u001b[0;36m, line \u001b[0;32m1\u001b[0m\n\u001b[0;31m    I come in peace, please take me to your leader\u001b[0m\n\u001b[0m      ^\u001b[0m\n\u001b[0;31mSyntaxError\u001b[0m\u001b[0;31m:\u001b[0m invalid syntax\n"
          ]
        }
      ]
    },
    {
      "cell_type": "code",
      "source": [
        "print('You must be the legendary god that comes from the sky')\n",
        "print('We have been waiting for you for a long time')\n",
        "print('Our legend says you will be very tasty with mustard')\n",
        "print 'We will have a feast tonight unless you say"
      ],
      "metadata": {
        "colab": {
          "base_uri": "https://localhost:8080/",
          "height": 106
        },
        "id": "m-9e-0uCnEPK",
        "outputId": "8181eddc-ce7e-4bb5-d292-1701ab2cf349"
      },
      "execution_count": null,
      "outputs": [
        {
          "output_type": "error",
          "ename": "SyntaxError",
          "evalue": "unterminated string literal (detected at line 4) (<ipython-input-5-ed8cd95dcd13>, line 4)",
          "traceback": [
            "\u001b[0;36m  File \u001b[0;32m\"<ipython-input-5-ed8cd95dcd13>\"\u001b[0;36m, line \u001b[0;32m4\u001b[0m\n\u001b[0;31m    print 'We will have a feast tonight unless you say\u001b[0m\n\u001b[0m          ^\u001b[0m\n\u001b[0;31mSyntaxError\u001b[0m\u001b[0;31m:\u001b[0m unterminated string literal (detected at line 4)\n"
          ]
        }
      ]
    },
    {
      "cell_type": "markdown",
      "source": [
        "The conversation was going so well for a while and then you made the tiniest mistake using the Python language and Python brought the spears back out."
      ],
      "metadata": {
        "id": "SZm-9i4RoJhQ"
      }
    },
    {
      "cell_type": "markdown",
      "source": [
        "### Writing a program"
      ],
      "metadata": {
        "id": "1pwmzSOKo9yw"
      }
    },
    {
      "cell_type": "markdown",
      "source": [
        "When we want to write a program, we use a text editor to write the Python instructions into a file, which is called a script. By convention, Python scripts have names that end with .py."
      ],
      "metadata": {
        "id": "chEsuoCEpP15"
      }
    },
    {
      "cell_type": "code",
      "source": [
        "# Create the hello.py file\n",
        "!echo \"print('Hello world!')\" > hello.py\n",
        "\n",
        "# View the contents of the file (optional)\n",
        "!cat hello.py\n",
        "\n",
        "# Run the Python file\n",
        "!python hello.py\n"
      ],
      "metadata": {
        "colab": {
          "base_uri": "https://localhost:8080/"
        },
        "id": "Olj97vLinIR0",
        "outputId": "e54b3b31-dd98-4e5e-cac2-653e0556a509"
      },
      "execution_count": null,
      "outputs": [
        {
          "output_type": "stream",
          "name": "stdout",
          "text": [
            "print('Hello world!')\n",
            "Hello world!\n"
          ]
        }
      ]
    },
    {
      "cell_type": "code",
      "source": [
        "# Create the hello.py file\n",
        "!echo \"print('Hello!')\" > hello.ipynb\n",
        "\n",
        "# View the contents of the file (optional)\n",
        "!cat hello.ipynb\n",
        "\n",
        "# Run the Python file\n",
        "!python hello.ipynb\n"
      ],
      "metadata": {
        "colab": {
          "base_uri": "https://localhost:8080/"
        },
        "id": "qLcU-gRcp4AN",
        "outputId": "1c4825a0-eccc-4847-9c72-01f0b2739651"
      },
      "execution_count": null,
      "outputs": [
        {
          "output_type": "stream",
          "name": "stdout",
          "text": [
            "print('Hello!')\n",
            "Hello!\n"
          ]
        }
      ]
    },
    {
      "cell_type": "markdown",
      "source": [
        "**The definition of a program** at its most basic is a sequence of Python statements that have been crafted to do something. Even our simple hello.ipynb script is a program. It is a one-line program and is not particularly useful, but in the strictest definition, it is a Python program."
      ],
      "metadata": {
        "id": "uRKgNmf2sSCS"
      }
    },
    {
      "cell_type": "markdown",
      "source": [
        "## 4. Concepts and Terminology"
      ],
      "metadata": {
        "id": "dZ8S-IpptUph"
      }
    },
    {
      "cell_type": "markdown",
      "source": [
        "### Terminology: Interpreter and compiler"
      ],
      "metadata": {
        "id": "jsUhSfcWy70b"
      }
    },
    {
      "cell_type": "markdown",
      "source": [
        "Python is a *high-level language* intended to be relatively straightforward for humans to read and write and for computers to read and process.\n",
        "\n",
        "Programs written in high-level languages can be moved between different computers by using a different interpreter on the new machine or recompiling the code to create a machine language version of the program (e.g., 00100111001111) for the new machine.\n",
        "\n",
        "These programming language translators fall into two general categories: (1) interpreters and (2) compilers."
      ],
      "metadata": {
        "id": "GHJKoUJMy_M6"
      }
    },
    {
      "cell_type": "markdown",
      "source": [
        "An **interpreter** reads the source code of the program as written by the programmer, parses the source code, and interprets the instructions on the fly.\n",
        "\n",
        "An interpreter translates source code into machine code line-by-line or statement-by-statement and executes it immediately. It does not produce a separate executable file.\n",
        "\n",
        "We use the term *variable* to refer to the labels we use to refer to this stored data."
      ],
      "metadata": {
        "id": "3AhUtpj7E3yD"
      }
    },
    {
      "cell_type": "code",
      "source": [
        "x=6\n",
        "print(x)"
      ],
      "metadata": {
        "colab": {
          "base_uri": "https://localhost:8080/"
        },
        "id": "hOpDmonTFTJ4",
        "outputId": "cec67eef-00e2-46d3-e78d-459905f86a22"
      },
      "execution_count": null,
      "outputs": [
        {
          "output_type": "stream",
          "name": "stdout",
          "text": [
            "6\n"
          ]
        }
      ]
    },
    {
      "cell_type": "markdown",
      "source": [
        "A **compiler** needs to be handed the entire program in a file, and then it runs a process to translate the high-level source code into machine language and then the compiler puts the resulting machine language into a file for later execution.\n",
        "\n",
        "If you have a Windows system, often these executable machine language programs have a suffix of “.exe”.\n",
        "\n",
        "For example, when you compile a C program:\n",
        "You would use a compiler like `gcc` to convert this source code into an executable file. Running `gcc hello.c -o` hello produces an executable file named `hello`. This file can be executed directly by the operating system."
      ],
      "metadata": {
        "id": "uX1zkDNaFc4R"
      }
    },
    {
      "cell_type": "code",
      "source": [
        "// Example C code (hello.c)\n",
        "#include <stdio.h>\n",
        "\n",
        "int main() {\n",
        "    printf(\"Hello, world!\\n\");\n",
        "    return 0;\n",
        "}\n"
      ],
      "metadata": {
        "colab": {
          "base_uri": "https://localhost:8080/",
          "height": 106
        },
        "id": "sRJWbs2gHItJ",
        "outputId": "6dd7fc03-b919-498b-85db-e213b13fb38b"
      },
      "execution_count": null,
      "outputs": [
        {
          "output_type": "error",
          "ename": "SyntaxError",
          "evalue": "invalid syntax (<ipython-input-15-cfd9568acc98>, line 1)",
          "traceback": [
            "\u001b[0;36m  File \u001b[0;32m\"<ipython-input-15-cfd9568acc98>\"\u001b[0;36m, line \u001b[0;32m1\u001b[0m\n\u001b[0;31m    // Example C code (hello.c)\u001b[0m\n\u001b[0m    ^\u001b[0m\n\u001b[0;31mSyntaxError\u001b[0m\u001b[0;31m:\u001b[0m invalid syntax\n"
          ]
        }
      ]
    },
    {
      "cell_type": "markdown",
      "source": [
        "### The building blocks of programs"
      ],
      "metadata": {
        "id": "D8eQRLJQsiSq"
      }
    },
    {
      "cell_type": "markdown",
      "source": [
        "**input**\n",
        "\n",
        "Get data from the “outside world”. This might be reading data from a file, or even some kind of sensor like a microphone or GPS. In our initial programs, our input will come from the user typing data on the keyboard.\n",
        "\n",
        "**output**\n",
        "\n",
        "Display the results of the program on a screen or store them in a file or perhaps write them to a device like a speaker to play music or speak text.\n",
        "\n",
        "**sequential execution**\n",
        "\n",
        "Perform statements one after another in the order they are encountered in the script.\n",
        "\n",
        "**conditional execution**\n",
        "\n",
        "Check for certain conditions and then execute or skip a sequence of statements.\n",
        "\n",
        "**repeated execution**\n",
        "\n",
        "Perform some set of statements repeatedly, usually with some variation.\n",
        "\n",
        "**reuse**\n",
        "\n",
        "Write a set of instructions once and give them a name and then reuse those instructions as needed throughout your program."
      ],
      "metadata": {
        "id": "ZXZlaA-usrHB"
      }
    },
    {
      "cell_type": "markdown",
      "source": [
        "### Errors"
      ],
      "metadata": {
        "id": "GH0hRaAowFuK"
      }
    },
    {
      "cell_type": "markdown",
      "source": [
        "**Syntax Error**:\n",
        "A syntax error occurs when the code does not conform to the language's grammar rules."
      ],
      "metadata": {
        "id": "DqQ420HivlJg"
      }
    },
    {
      "cell_type": "code",
      "source": [
        "print(\"Hello, world!  # Missing closing quote"
      ],
      "metadata": {
        "colab": {
          "base_uri": "https://localhost:8080/",
          "height": 106
        },
        "id": "GS75kOgmvacr",
        "outputId": "d539723a-2fc4-47a4-f652-6b4e606b28e5"
      },
      "execution_count": null,
      "outputs": [
        {
          "output_type": "error",
          "ename": "SyntaxError",
          "evalue": "unterminated string literal (detected at line 1) (<ipython-input-11-aa33224ae464>, line 1)",
          "traceback": [
            "\u001b[0;36m  File \u001b[0;32m\"<ipython-input-11-aa33224ae464>\"\u001b[0;36m, line \u001b[0;32m1\u001b[0m\n\u001b[0;31m    print(\"Hello, world!  # Missing closing quote\u001b[0m\n\u001b[0m          ^\u001b[0m\n\u001b[0;31mSyntaxError\u001b[0m\u001b[0;31m:\u001b[0m unterminated string literal (detected at line 1)\n"
          ]
        }
      ]
    },
    {
      "cell_type": "markdown",
      "source": [
        "**Logic Error**:\n",
        "A logic error occurs when the code runs without errors but produces incorrect results due to flawed logic.\n",
        "\n",
        "Logic errors arise from a mistake in your thought process or approach to solving the problem."
      ],
      "metadata": {
        "id": "h-xm7AKbs-ta"
      }
    },
    {
      "cell_type": "code",
      "source": [
        "def calculate_area(radius):\n",
        "    return 2 * 3.14 * radius  # Incorrect formula, should be 3.14 * radius * radius\n",
        "\n",
        "area = calculate_area(5)\n",
        "print(area)\n"
      ],
      "metadata": {
        "colab": {
          "base_uri": "https://localhost:8080/"
        },
        "id": "nGZSVZTwvuSH",
        "outputId": "9b969599-f58a-4c55-bdc3-3284252fc10c"
      },
      "execution_count": null,
      "outputs": [
        {
          "output_type": "stream",
          "name": "stdout",
          "text": [
            "31.400000000000002\n"
          ]
        }
      ]
    },
    {
      "cell_type": "code",
      "source": [
        "# Objective: Print all even numbers between 1 and 10.\n",
        "for i in range(1, 10):\n",
        "    if i % 2 == 1:  # Logic error: Incorrect condition for even numbers\n",
        "        print(i)\n",
        "\n",
        "# Result: Prints odd numbers instead of even numbers due to incorrect logic in the condition."
      ],
      "metadata": {
        "colab": {
          "base_uri": "https://localhost:8080/"
        },
        "id": "f4cG3-Ke6h0Z",
        "outputId": "0d77835b-6f7b-48c8-c49a-20ec9ed573da"
      },
      "execution_count": 1,
      "outputs": [
        {
          "output_type": "stream",
          "name": "stdout",
          "text": [
            "1\n",
            "3\n",
            "5\n",
            "7\n",
            "9\n"
          ]
        }
      ]
    },
    {
      "cell_type": "markdown",
      "source": [
        "**Semantic Error**:\n",
        "A semantic error occurs when the code is syntactically correct but logically incorrect in terms of the meaning or intended functionality.\n",
        "\n",
        "Semantic errors arise from a misunderstanding of how the programming language works or what a particular construct means."
      ],
      "metadata": {
        "id": "5fRmVlbev2ch"
      }
    },
    {
      "cell_type": "code",
      "source": [
        "def divide(a, b):\n",
        "    return a + b  # Incorrect operation, should be a / b\n",
        "\n",
        "result = divide(10, 2)\n",
        "print(result)\n"
      ],
      "metadata": {
        "colab": {
          "base_uri": "https://localhost:8080/"
        },
        "id": "csNrnxv5v4sJ",
        "outputId": "499cccd1-afc6-4fab-c074-5e75c70e367b"
      },
      "execution_count": null,
      "outputs": [
        {
          "output_type": "stream",
          "name": "stdout",
          "text": [
            "12\n"
          ]
        }
      ]
    },
    {
      "cell_type": "code",
      "source": [
        "# Objective: Print all even numbers between 1 and 10\n",
        "for i in range(1, 10):\n",
        "    print(i // 2)  # Semantic error: Misuse of the operator\n",
        "\n",
        "# The code uses i // 2, which doesn't align with the intended functionality of printing even numbers."
      ],
      "metadata": {
        "id": "oybHnyRe7sPh"
      },
      "execution_count": null,
      "outputs": []
    },
    {
      "cell_type": "markdown",
      "source": [
        "### Debugging"
      ],
      "metadata": {
        "id": "vAaULQ0wwNqJ"
      }
    },
    {
      "cell_type": "markdown",
      "source": [
        "**reading**\n",
        "\n",
        "Examine your code, read it back to yourself, and check that it says what you meant to say.\n",
        "\n",
        "**running**\n",
        "Experiment by making changes and running different versions.\n",
        "\n",
        "**ruminating**\n",
        "Take some time to think! What kind of error is it: syntax, runtime, semantic? What information can you get from the error messages, or from the output of the program?\n",
        "\n",
        "**retreating**\n",
        "At some point, the best thing to do is back off, undoing recent changes, until you get back to a program that works and that you understand. Then you can start rebuilding."
      ],
      "metadata": {
        "id": "TQXoiHuCwQlg"
      }
    }
  ]
}