{
  "cells": [
    {
      "cell_type": "markdown",
      "metadata": {
        "id": "DWBvDzCh-4mo"
      },
      "source": [
        "# Conditional execution"
      ]
    },
    {
      "cell_type": "markdown",
      "metadata": {
        "id": "BRoxGU3W_Age"
      },
      "source": [
        "## Boolean expressions\n",
        "A boolean expression is an expression that is either true or false. The following examples use the operator `==`, which compares two operands and produces `True` if they are equal and `False` otherwise:"
      ]
    },
    {
      "cell_type": "code",
      "execution_count": 2,
      "metadata": {
        "colab": {
          "base_uri": "https://localhost:8080/"
        },
        "id": "kvTdsYJP1tGP",
        "outputId": "ee52745d-be32-403f-d4a8-1033343db47e"
      },
      "outputs": [
        {
          "data": {
            "text/plain": [
              "True"
            ]
          },
          "execution_count": 2,
          "metadata": {},
          "output_type": "execute_result"
        }
      ],
      "source": [
        "5 == 5"
      ]
    },
    {
      "cell_type": "code",
      "execution_count": 3,
      "metadata": {
        "colab": {
          "base_uri": "https://localhost:8080/"
        },
        "id": "iGXprIuc_MZO",
        "outputId": "3c0d7067-98f8-458c-c4a9-b5f9cc9f0087"
      },
      "outputs": [
        {
          "data": {
            "text/plain": [
              "False"
            ]
          },
          "execution_count": 3,
          "metadata": {},
          "output_type": "execute_result"
        }
      ],
      "source": [
        "5 == 6"
      ]
    },
    {
      "cell_type": "code",
      "execution_count": 5,
      "metadata": {
        "colab": {
          "base_uri": "https://localhost:8080/"
        },
        "id": "KWxNi-Z2_Q0u",
        "outputId": "cd953989-51f7-46e5-dd4b-d0e8a9dd2f0f"
      },
      "outputs": [
        {
          "data": {
            "text/plain": [
              "bool"
            ]
          },
          "execution_count": 5,
          "metadata": {},
          "output_type": "execute_result"
        }
      ],
      "source": [
        "type(True)\n",
        "type(False)"
      ]
    },
    {
      "cell_type": "code",
      "execution_count": 7,
      "metadata": {
        "colab": {
          "base_uri": "https://localhost:8080/",
          "height": 211
        },
        "id": "hwnmcNbX_ae_",
        "outputId": "d30637de-267b-450d-fe3b-039dfc1c8122"
      },
      "outputs": [
        {
          "ename": "NameError",
          "evalue": "name 'x' is not defined",
          "output_type": "error",
          "traceback": [
            "\u001b[0;31m---------------------------------------------------------------------------\u001b[0m",
            "\u001b[0;31mNameError\u001b[0m                                 Traceback (most recent call last)",
            "\u001b[0;32m<ipython-input-7-2d6e1774fb09>\u001b[0m in \u001b[0;36m<cell line: 2>\u001b[0;34m()\u001b[0m\n\u001b[1;32m      1\u001b[0m \u001b[0;31m# The == operator is one of the comparison operators; the others are:\u001b[0m\u001b[0;34m\u001b[0m\u001b[0;34m\u001b[0m\u001b[0m\n\u001b[0;32m----> 2\u001b[0;31m \u001b[0mx\u001b[0m \u001b[0;34m!=\u001b[0m \u001b[0my\u001b[0m               \u001b[0;31m# x is not equal to y\u001b[0m\u001b[0;34m\u001b[0m\u001b[0;34m\u001b[0m\u001b[0m\n\u001b[0m\u001b[1;32m      3\u001b[0m \u001b[0mx\u001b[0m \u001b[0;34m>\u001b[0m \u001b[0my\u001b[0m                \u001b[0;31m# x is greater than y\u001b[0m\u001b[0;34m\u001b[0m\u001b[0;34m\u001b[0m\u001b[0m\n\u001b[1;32m      4\u001b[0m \u001b[0mx\u001b[0m \u001b[0;34m<\u001b[0m \u001b[0my\u001b[0m                \u001b[0;31m# x is less than y\u001b[0m\u001b[0;34m\u001b[0m\u001b[0;34m\u001b[0m\u001b[0m\n\u001b[1;32m      5\u001b[0m \u001b[0mx\u001b[0m \u001b[0;34m>=\u001b[0m \u001b[0my\u001b[0m               \u001b[0;31m# x is greater than or equal to y\u001b[0m\u001b[0;34m\u001b[0m\u001b[0;34m\u001b[0m\u001b[0m\n",
            "\u001b[0;31mNameError\u001b[0m: name 'x' is not defined"
          ]
        }
      ],
      "source": [
        "# The == operator is one of the comparison operators; the others are:\n",
        "x != y               # x is not equal to y\n",
        "x > y                # x is greater than y\n",
        "x < y                # x is less than y\n",
        "x >= y               # x is greater than or equal to y\n",
        "x <= y               # x is less than or equal to y\n",
        "x is y               # x is the same as y\n",
        "x is not y           # x is not the same as y"
      ]
    },
    {
      "cell_type": "markdown",
      "metadata": {
        "id": "1vxEefFJ_02G"
      },
      "source": [
        "## Logical operators\n",
        "There are three logical operators: `and`, `or`, and `not`. The semantics (meaning) of these operators is similar to their meaning in English. For example, `x > 0 and x < 10` is true only if x is greater than 0 and less than 10.\n",
        "The not operator negates a boolean expression, so not (x > y) is true if x > y is false.\n",
        "\n",
        "- The `and` operator results in `True` if **both** operands are true. For example, `x > 0 and x < 10` is true only if `x` is greater than 0 **and** less than 10.\n",
        "- The `or` operator results in `True` if **at least one** of the operands is true. For example, `x > 0 or x < -10` is true if `x` is either greater than 0 **or** less than -10 (or both).\n",
        "- The `not` operator negates a boolean expression, turning `True` to `False` and vice versa. For instance, `not (x > y)` is true if `x > y` is false.\n",
        "\n",
        "Below is the truth table for these logical operators, which shows the outcome of each operation based on the possible combinations of boolean values `True` and `False`:\n",
        "\n",
        "| A     | B     | A and B | A or B | not A | not B |\n",
        "|-------|-------|---------|--------|-------|-------|\n",
        "| True  | True  | True    | True   | False | False |\n",
        "| True  | False | False   | True   | False | True  |\n",
        "| False | True  | False   | True   | True  | False |\n",
        "| False | False | False   | False  | True  | True  |\n",
        "\n"
      ]
    },
    {
      "cell_type": "code",
      "execution_count": 9,
      "metadata": {
        "colab": {
          "base_uri": "https://localhost:8080/"
        },
        "id": "_BYZUvsuAt6e",
        "outputId": "c2034ff9-75f6-4445-9c42-bbeb06cbc571"
      },
      "outputs": [
        {
          "data": {
            "text/plain": [
              "False"
            ]
          },
          "execution_count": 9,
          "metadata": {},
          "output_type": "execute_result"
        }
      ],
      "source": [
        "x = 1\n",
        "y = 2\n",
        "x > y\n"
      ]
    },
    {
      "cell_type": "code",
      "execution_count": 10,
      "metadata": {
        "colab": {
          "base_uri": "https://localhost:8080/"
        },
        "id": "Wx8bJQeWAxfu",
        "outputId": "5bb648f9-e3bf-4a57-a6ae-ed6d0e6e2bc0"
      },
      "outputs": [
        {
          "data": {
            "text/plain": [
              "True"
            ]
          },
          "execution_count": 10,
          "metadata": {},
          "output_type": "execute_result"
        }
      ],
      "source": [
        "not (x > y)"
      ]
    },
    {
      "cell_type": "markdown",
      "metadata": {
        "id": "1n5V7G5FA2iQ"
      },
      "source": [
        "## Conditional execution\n",
        "In order to write useful programs, we almost always need the ability to check conditions and change the behavior of the program accordingly. Conditional statements give us this ability. The simplest form is the `if` statement:"
      ]
    },
    {
      "cell_type": "code",
      "execution_count": 11,
      "metadata": {
        "colab": {
          "base_uri": "https://localhost:8080/"
        },
        "id": "h_w6598zA7Au",
        "outputId": "8bb03df6-16c1-4e6c-bf88-5154d6d6d6e5"
      },
      "outputs": [
        {
          "name": "stdout",
          "output_type": "stream",
          "text": [
            "x is positive\n"
          ]
        }
      ],
      "source": [
        "if x > 0 :\n",
        "    print('x is positive')"
      ]
    },
    {
      "cell_type": "markdown",
      "metadata": {
        "id": "MZcP2C7njogf"
      },
      "source": [
        "The boolean expression after the `if` statement is called the condition. We end the `if` statement with a colon character (:) and the line(s) after the if statement are indented.\n",
        "\n",
        "If Logic\n",
        "\n",
        "If the logical condition is true, then the indented statement gets executed. If the logical condition is false, the indented statement is skipped.\n",
        "![if.svg](data:image/svg+xml;base64,PD94bWwgdmVyc2lvbj0iMS4wIiBlbmNvZGluZz0iVVRGLTgiIHN0YW5kYWxvbmU9Im5vIj8+CjwhRE9DVFlQRSBzdmcgUFVCTElDICItLy9XM0MvL0RURCBTVkcgMS4xLy9FTiIgImh0dHA6Ly93d3cudzMub3JnL0dyYXBoaWNzL1NWRy8xLjEvRFREL3N2ZzExLmR0ZCI+CjxzdmcgeG1sbnM9Imh0dHA6Ly93d3cudzMub3JnLzIwMDAvc3ZnIiB4bWxuczp4bD0iaHR0cDovL3d3dy53My5vcmcvMTk5OS94bGluayIgdmVyc2lvbj0iMS4xIiB2aWV3Qm94PSI3IDYgMjIwIDE1MCIgd2lkdGg9IjIyMHB0IiBoZWlnaHQ9IjE1MHB0IiB4bWxuczpkYz0iaHR0cDovL3B1cmwub3JnL2RjL2VsZW1lbnRzLzEuMS8iPjxtZXRhZGF0YT4gUHJvZHVjZWQgYnkgT21uaUdyYWZmbGUgNi41IDxkYzpkYXRlPjIwMTYtMDQtMDggMTA6NDg6MTkgKzAwMDA8L2RjOmRhdGU+PC9tZXRhZGF0YT48ZGVmcz48ZmlsdGVyIGlkPSJTaGFkb3ciIGZpbHRlclVuaXRzPSJ1c2VyU3BhY2VPblVzZSI+PGZlR2F1c3NpYW5CbHVyIGluPSJTb3VyY2VBbHBoYSIgcmVzdWx0PSJibHVyIiBzdGREZXZpYXRpb249IjEuMzA4Ii8+PGZlT2Zmc2V0IGluPSJibHVyIiByZXN1bHQ9Im9mZnNldCIgZHg9IjAiIGR5PSIyIi8+PGZlRmxvb2QgZmxvb2QtY29sb3I9ImJsYWNrIiBmbG9vZC1vcGFjaXR5PSIuNSIgcmVzdWx0PSJmbG9vZCIvPjxmZUNvbXBvc2l0ZSBpbj0iZmxvb2QiIGluMj0ib2Zmc2V0IiBvcGVyYXRvcj0iaW4iLz48L2ZpbHRlcj48Zm9udC1mYWNlIGZvbnQtZmFtaWx5PSJIZWx2ZXRpY2EiIGZvbnQtc2l6ZT0iMTAiIHVuaXRzLXBlci1lbT0iMTAwMCIgdW5kZXJsaW5lLXBvc2l0aW9uPSItNzUuNjgzNTk0IiB1bmRlcmxpbmUtdGhpY2tuZXNzPSI0OS4zMTY0MDYiIHNsb3BlPSIwIiB4LWhlaWdodD0iNTIyLjk0OTIyIiBjYXAtaGVpZ2h0PSI3MTcuMjg1MTYiIGFzY2VudD0iNzcwLjAxOTUzIiBkZXNjZW50PSItMjI5Ljk4MDQ3IiBmb250LXdlaWdodD0iNTAwIj48Zm9udC1mYWNlLXNyYz48Zm9udC1mYWNlLW5hbWUgbmFtZT0iSGVsdmV0aWNhIi8+PC9mb250LWZhY2Utc3JjPjwvZm9udC1mYWNlPjxtYXJrZXIgb3JpZW50PSJhdXRvIiBvdmVyZmxvdz0idmlzaWJsZSIgbWFya2VyVW5pdHM9InN0cm9rZVdpZHRoIiBpZD0iRmlsbGVkQXJyb3dfTWFya2VyIiB2aWV3Qm94PSItMSAtMyA3IDYiIG1hcmtlcldpZHRoPSI3IiBtYXJrZXJIZWlnaHQ9IjYiIGNvbG9yPSJibGFjayI+PGc+PHBhdGggZD0iTSA0LjggMCBMIDAgLTEuOCBMIDAgMS44IFoiIGZpbGw9ImN1cnJlbnRDb2xvciIgc3Ryb2tlPSJjdXJyZW50Q29sb3IiIHN0cm9rZS13aWR0aD0iMSIvPjwvZz48L21hcmtlcj48Zm9udC1mYWNlIGZvbnQtZmFtaWx5PSJIZWx2ZXRpY2EgTmV1ZSIgZm9udC1zaXplPSIxMyIgcGFub3NlLTE9IjIgMCA1IDMgMCAwIDAgMiAwIDQiIHVuaXRzLXBlci1lbT0iMTAwMCIgdW5kZXJsaW5lLXBvc2l0aW9uPSItMTAwIiB1bmRlcmxpbmUtdGhpY2tuZXNzPSI1MCIgc2xvcGU9IjAiIHgtaGVpZ2h0PSI1MTciIGNhcC1oZWlnaHQ9IjcxNCIgYXNjZW50PSI5NTEuOTk1ODUiIGRlc2NlbnQ9Ii0yMTIuOTk3NDQiIGZvbnQtd2VpZ2h0PSI1MDAiPjxmb250LWZhY2Utc3JjPjxmb250LWZhY2UtbmFtZSBuYW1lPSJIZWx2ZXRpY2FOZXVlIi8+PC9mb250LWZhY2Utc3JjPjwvZm9udC1mYWNlPjwvZGVmcz48ZyBzdHJva2U9Im5vbmUiIHN0cm9rZS1vcGFjaXR5PSIxIiBzdHJva2UtZGFzaGFycmF5PSJub25lIiBmaWxsPSJub25lIiBmaWxsLW9wYWNpdHk9IjEiPjx0aXRsZT5DYW52YXMgMTwvdGl0bGU+PHJlY3QgZmlsbD0id2hpdGUiIHdpZHRoPSIzNDciIGhlaWdodD0iNjEzIi8+PGc+PHRpdGxlPkxheWVyIDE8L3RpdGxlPjxnPjx4bDp1c2UgeGw6aHJlZj0iI2lkM19HcmFwaGljIiBmaWx0ZXI9InVybCgjU2hhZG93KSIvPjx4bDp1c2UgeGw6aHJlZj0iI2lkMTlfR3JhcGhpYyIgZmlsdGVyPSJ1cmwoI1NoYWRvdykiLz48L2c+PGcgaWQ9ImlkM19HcmFwaGljIj48cGF0aCBkPSJNIDU0IDM2IEwgOTkgNTQgTCA1NCA3MiBMIDkgNTQgWiIgZmlsbD0id2hpdGUiLz48cGF0aCBkPSJNIDU0IDM2IEwgOTkgNTQgTCA1NCA3MiBMIDkgNTQgWiIgc3Ryb2tlPSJibGFjayIgc3Ryb2tlLWxpbmVjYXA9InJvdW5kIiBzdHJva2UtbGluZWpvaW49InJvdW5kIiBzdHJva2Utd2lkdGg9IjEiLz48dGV4dCB0cmFuc2Zvcm09InRyYW5zbGF0ZSgyNi4xNSA0Ny42NCkiIGZpbGw9ImJsYWNrIj48dHNwYW4gZm9udC1mYW1pbHk9IkhlbHZldGljYSIgZm9udC1zaXplPSIxMCIgZm9udC13ZWlnaHQ9IjUwMCIgeD0iMTcuNzcwOTk2IiB5PSIxMCIgdGV4dExlbmd0aD0iMjEuOTU4MDA4Ij54ICZndDsgMDwvdHNwYW4+PC90ZXh0PjwvZz48ZyBpZD0iaWQxOV9HcmFwaGljIj48cmVjdCB4PSIxMDgiIHk9IjcyIiB3aWR0aD0iMTE3IiBoZWlnaHQ9IjM2IiBmaWxsPSJ3aGl0ZSIvPjxyZWN0IHg9IjEwOCIgeT0iNzIiIHdpZHRoPSIxMTciIGhlaWdodD0iMzYiIHN0cm9rZT0iYmxhY2siIHN0cm9rZS1saW5lY2FwPSJyb3VuZCIgc3Ryb2tlLWxpbmVqb2luPSJyb3VuZCIgc3Ryb2tlLXdpZHRoPSIxIi8+PHRleHQgdHJhbnNmb3JtPSJ0cmFuc2xhdGUoMTEzIDg0KSIgZmlsbD0iYmxhY2siPjx0c3BhbiBmb250LWZhbWlseT0iSGVsdmV0aWNhIiBmb250LXNpemU9IjEwIiBmb250LXdlaWdodD0iNTAwIiB4PSIxMC45OTAyMzQ0IiB5PSIxMCIgdGV4dExlbmd0aD0iODUuMDE5NTMiPnByaW50KOKAmHggaXMgcG9zdGl0aXZl4oCZKTwvdHNwYW4+PC90ZXh0PjwvZz48cGF0aCBkPSJNIDk5IDU0IEwgMTE0LjkgNTQgTCAxNjYuNSA1NCBMIDE2Ni41IDcyIEwgMTY2LjUgNTYuMSBMIDE2Ni41IDU5LjEiIG1hcmtlci1lbmQ9InVybCgjRmlsbGVkQXJyb3dfTWFya2VyKSIgc3Ryb2tlPSJibGFjayIgc3Ryb2tlLWxpbmVjYXA9InJvdW5kIiBzdHJva2UtbGluZWpvaW49InJvdW5kIiBzdHJva2Utd2lkdGg9IjIiLz48cGF0aCBkPSJNIDU0IDkgTCA1NCAxNC41NSBMIDU0IDIwLjEgTCA1NCAyMy4xIiBtYXJrZXItZW5kPSJ1cmwoI0ZpbGxlZEFycm93X01hcmtlcikiIHN0cm9rZT0iYmxhY2siIHN0cm9rZS1saW5lY2FwPSJyb3VuZCIgc3Ryb2tlLWxpbmVqb2luPSJyb3VuZCIgc3Ryb2tlLXdpZHRoPSIyIi8+PHBhdGggZD0iTSA1NCA3MiBMIDU0IDg3LjkgTCA1NCAxMjAuNDUgTCA1NCAxNDAuMSIgbWFya2VyLWVuZD0idXJsKCNGaWxsZWRBcnJvd19NYXJrZXIpIiBzdHJva2U9ImJsYWNrIiBzdHJva2UtbGluZWNhcD0icm91bmQiIHN0cm9rZS1saW5lam9pbj0icm91bmQiIHN0cm9rZS13aWR0aD0iMiIvPjxwYXRoIGQ9Ik0gMTY2LjUgMTA4IEwgMTY2LjUgMTIzLjkgTCAxMTguMiAxMjMuOTUgTCA2OS45IDEyNCBMIDY2LjkgMTI0IiBtYXJrZXItZW5kPSJ1cmwoI0ZpbGxlZEFycm93X01hcmtlcikiIHN0cm9rZT0iYmxhY2siIHN0cm9rZS1saW5lY2FwPSJyb3VuZCIgc3Ryb2tlLWxpbmVqb2luPSJyb3VuZCIgc3Ryb2tlLXdpZHRoPSIyIi8+PHRleHQgdHJhbnNmb3JtPSJ0cmFuc2xhdGUoMTE1LjUgMzUuNSkiIGZpbGw9ImJsYWNrIj48dHNwYW4gZm9udC1mYW1pbHk9IkhlbHZldGljYSBOZXVlIiBmb250LXNpemU9IjEzIiBmb250LXdlaWdodD0iNTAwIiB4PSIuMjY5IiB5PSIxMiIgdGV4dExlbmd0aD0iOC40MjQiPlk8L3RzcGFuPjx0c3BhbiBmb250LWZhbWlseT0iSGVsdmV0aWNhIE5ldWUiIGZvbnQtc2l6ZT0iMTMiIGZvbnQtd2VpZ2h0PSI1MDAiIHg9IjcuMjUiIHk9IjEyIiB0ZXh0TGVuZ3RoPSIxMy40ODEiPmVzPC90c3Bhbj48L3RleHQ+PC9nPjwvZz48L3N2Zz4K)"
      ]
    },
    {
      "cell_type": "code",
      "execution_count": 2,
      "metadata": {
        "colab": {
          "base_uri": "https://localhost:8080/"
        },
        "id": "G_FvlCrKkImN",
        "outputId": "421da212-a5c5-4880-9587-5ba15f70ac25"
      },
      "outputs": [
        {
          "name": "stdout",
          "output_type": "stream",
          "text": [
            "x is positive\n"
          ]
        }
      ],
      "source": [
        "x=5\n",
        "if x > 0 :\n",
        "    print('x is positive')"
      ]
    },
    {
      "cell_type": "markdown",
      "metadata": {
        "id": "lUITUWV3q3Ex"
      },
      "source": [
        "#### The concepts of body, indentation, \"inside\" vs. \"outside\""
      ]
    },
    {
      "cell_type": "code",
      "execution_count": 28,
      "metadata": {
        "colab": {
          "base_uri": "https://localhost:8080/"
        },
        "id": "66mCDPxCqxbQ",
        "outputId": "0e922992-ffff-4351-fa6f-41b30ce2e3c7"
      },
      "outputs": [
        {
          "name": "stdout",
          "output_type": "stream",
          "text": [
            "x is positive\n"
          ]
        }
      ],
      "source": [
        "x = 5\n",
        "if x > 0:                    # 'if' statement begins here, checking if x is greater than 0\n",
        "    print('x is positive')    # This line is INSIDE the 'if' statement (body of the 'if'). Indented!\n",
        "                              # It will be executed only if x > 0 is True.\n",
        "# Any code here without indentation would be OUTSIDE the 'if' statement.\n"
      ]
    },
    {
      "cell_type": "code",
      "execution_count": 3,
      "metadata": {
        "id": "oU5jb45dkl1O"
      },
      "outputs": [],
      "source": [
        "x=-10\n",
        "if x > 0 :\n",
        "    print('x is positive')"
      ]
    },
    {
      "cell_type": "markdown",
      "metadata": {
        "id": "XAIjUjLHlYxG"
      },
      "source": [
        "`if` statements have the same structure as function definitions or `for` loops. The statement consists of a header line that ends with the colon character (:) followed by an indented block. Statements like this are called compound statements because they stretch across more than one line."
      ]
    },
    {
      "cell_type": "code",
      "execution_count": 5,
      "metadata": {
        "id": "POSqgVS5lhs-"
      },
      "outputs": [],
      "source": [
        "x=20\n",
        "y=100\n",
        "if x > y:\n",
        "    print(x)\n",
        "    print(y)"
      ]
    },
    {
      "cell_type": "code",
      "execution_count": 8,
      "metadata": {
        "colab": {
          "base_uri": "https://localhost:8080/"
        },
        "id": "mm1lYNAflqaO",
        "outputId": "071182ea-a668-4513-fa0f-fc6948807850"
      },
      "outputs": [
        {
          "name": "stdout",
          "output_type": "stream",
          "text": [
            "55\n",
            "10\n"
          ]
        }
      ],
      "source": [
        "x=55\n",
        "y=10\n",
        "if x > y:\n",
        "    print(x)\n",
        "    print(y)"
      ]
    },
    {
      "cell_type": "markdown",
      "metadata": {
        "id": "iZOqffdWmTMu"
      },
      "source": [
        "## Alternative execution\n",
        "A second form of the `if` statement is alternative execution, in which there are two possibilities and the condition determines which one gets executed. The syntax looks like this:"
      ]
    },
    {
      "cell_type": "code",
      "execution_count": 11,
      "metadata": {
        "colab": {
          "base_uri": "https://localhost:8080/"
        },
        "id": "svxLCPfUmW1T",
        "outputId": "b68a3bf6-5ffa-47a2-b481-d9e3fcfee0d0"
      },
      "outputs": [
        {
          "name": "stdout",
          "output_type": "stream",
          "text": [
            "x is odd\n"
          ]
        }
      ],
      "source": [
        "if x % 2 == 0:\n",
        "    print('x is even')\n",
        "else:\n",
        "    print('x is odd')"
      ]
    },
    {
      "cell_type": "markdown",
      "metadata": {
        "id": "CKt4OAZEnBM3"
      },
      "source": [
        "If the remainder when `x` is divided by 2 is 0, then we know that `x` is even, and the program displays a message to that effect. If the condition is false, the second set of statements is executed.\n",
        "\n",
        "![if-else.svg](data:image/svg+xml;base64,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)"
      ]
    },
    {
      "cell_type": "markdown",
      "metadata": {
        "id": "jI6vQ9MinRc_"
      },
      "source": [
        "If-Then-Else Logic\n",
        "\n",
        "Since the condition must either be true or false, exactly one of the alternatives will be executed. The alternatives are called branches, because they are branches in the flow of execution."
      ]
    },
    {
      "cell_type": "markdown",
      "metadata": {
        "id": "-1E6Dpi6oEIf"
      },
      "source": [
        "## Chained conditionals\n",
        "Sometimes there are more than two possibilities and we need more than two branches. One way to express a computation like that is a chained conditional:\n",
        "![elif.svg](data:image/svg+xml;base64,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)"
      ]
    },
    {
      "cell_type": "code",
      "execution_count": 15,
      "metadata": {
        "colab": {
          "base_uri": "https://localhost:8080/"
        },
        "id": "Nsk8a2FUocFI",
        "outputId": "97461a8b-97c7-4623-a07a-640dc09243a1"
      },
      "outputs": [
        {
          "name": "stdout",
          "output_type": "stream",
          "text": [
            "x is greater than y\n"
          ]
        }
      ],
      "source": [
        "if x < y:\n",
        "    print('x is less than y')\n",
        "elif x > y:\n",
        "    print('x is greater than y')\n",
        "else:\n",
        "    print('x and y are equal')"
      ]
    },
    {
      "cell_type": "code",
      "execution_count": 14,
      "metadata": {
        "colab": {
          "base_uri": "https://localhost:8080/"
        },
        "id": "wBLpaSGanQ8H",
        "outputId": "54edecaa-6d9f-4b7a-e862-0db8132b0f0a"
      },
      "outputs": [
        {
          "name": "stdout",
          "output_type": "stream",
          "text": [
            "Enter a number: 0\n",
            "The number is zero.\n"
          ]
        }
      ],
      "source": [
        "number = int(input(\"Enter a number: \"))\n",
        "\n",
        "if number > 0:\n",
        "    print(\"The number is positive.\")\n",
        "elif number < 0:\n",
        "    print(\"The number is negative.\")\n",
        "else:\n",
        "    print(\"The number is zero.\")\n"
      ]
    },
    {
      "cell_type": "markdown",
      "metadata": {
        "id": "uFgW10iOo40T"
      },
      "source": [
        "If-Then-ElseIf Logic\n",
        "\n",
        "There is no limit on the number of `elif` statements. If there is an `else` clause, it has to be at the end, but there doesn’t have to be one."
      ]
    },
    {
      "cell_type": "code",
      "execution_count": 23,
      "metadata": {
        "colab": {
          "base_uri": "https://localhost:8080/"
        },
        "id": "45GQA0pto4c7",
        "outputId": "f1c362b5-c599-46cf-e293-0e27a1e863de"
      },
      "outputs": [
        {
          "name": "stdout",
          "output_type": "stream",
          "text": [
            "Enter a choice (a, b, c): c\n",
            "Close, but not correct\n"
          ]
        }
      ],
      "source": [
        "choice = input('Enter a choice (a, b, c): ')\n",
        "if choice == 'a':\n",
        "    print('Bad guess')\n",
        "elif choice == 'b':\n",
        "    print('Good guess')\n",
        "elif choice == 'c':\n",
        "    print('Close, but not correct')"
      ]
    },
    {
      "cell_type": "code",
      "execution_count": 21,
      "metadata": {
        "colab": {
          "base_uri": "https://localhost:8080/",
          "height": 106
        },
        "id": "7YeghM9_pmx_",
        "outputId": "98391daf-aa7b-48a4-b4da-4de8210622e1"
      },
      "outputs": [
        {
          "ename": "SyntaxError",
          "evalue": "expected ':' (<ipython-input-21-cc9af8cd2da2>, line 6)",
          "output_type": "error",
          "traceback": [
            "\u001b[0;36m  File \u001b[0;32m\"<ipython-input-21-cc9af8cd2da2>\"\u001b[0;36m, line \u001b[0;32m6\u001b[0m\n\u001b[0;31m    else choice == 'c':                   # else should not contain any conditions; it simply runs if all preceding conditions are false.\u001b[0m\n\u001b[0m         ^\u001b[0m\n\u001b[0;31mSyntaxError\u001b[0m\u001b[0;31m:\u001b[0m expected ':'\n"
          ]
        }
      ],
      "source": [
        "choice = input('Enter a choice (a, b, c): ')\n",
        "if choice == 'a':\n",
        "    print('Bad guess')\n",
        "elif choice == 'b':\n",
        "    print('Good guess')\n",
        "else choice == 'c':                   # else should not contain any conditions; it simply runs if all preceding conditions are false.\n",
        "    print('Close, but not correct')\n"
      ]
    },
    {
      "cell_type": "code",
      "execution_count": 24,
      "metadata": {
        "colab": {
          "base_uri": "https://localhost:8080/"
        },
        "id": "GGdKR9_pp3Vf",
        "outputId": "3e73c190-8abe-4e5d-82db-f8a56da05f3c"
      },
      "outputs": [
        {
          "name": "stdout",
          "output_type": "stream",
          "text": [
            "Enter a choice (a, b, c): d\n",
            "Close, but not correct\n"
          ]
        }
      ],
      "source": [
        "choice = input('Enter a choice (a, b, c): ')\n",
        "if choice == 'a':\n",
        "    print('Bad guess')\n",
        "elif choice == 'b':\n",
        "    print('Good guess')\n",
        "else:\n",
        "    print('Close, but not correct')\n",
        "# In this case, if the choice is neither 'a' nor 'b', the else block will handle everything else, including 'c' and any other input."
      ]
    },
    {
      "cell_type": "markdown",
      "metadata": {
        "id": "xhf0OMtHsK_e"
      },
      "source": []
    },
    {
      "cell_type": "markdown",
      "metadata": {
        "id": "h9bua3fjsWRH"
      },
      "source": [
        "#### The concepts of body, indentation, \"inside\" vs. \"outside\""
      ]
    },
    {
      "cell_type": "code",
      "execution_count": 32,
      "metadata": {
        "colab": {
          "base_uri": "https://localhost:8080/"
        },
        "id": "MORbc5Our1QX",
        "outputId": "b45479ee-98f2-447b-c860-100b0f28e188"
      },
      "outputs": [
        {
          "name": "stdout",
          "output_type": "stream",
          "text": [
            "Enter the temperature: 70\n",
            "It is warm.\n",
            "Consider wearing light clothing.\n",
            "Weather check complete.\n"
          ]
        }
      ],
      "source": [
        "temperature = int(input('Enter the temperature: '))  # OUTSIDE: This line collects user input and converts it to an integer.\n",
        "\n",
        "if temperature > 80:       # 'if' statement begins here, checking if temperature is greater than 80\n",
        "    print('It is too hot!')  # INSIDE: This line is the body of the 'if' statement. Indented to show it's inside the 'if'.\n",
        "    recommendation = 'Drink plenty of water.'  # INSIDE: This line is part of the 'if' statement's body.\n",
        "    print(recommendation)  # INSIDE: Continues inside the 'if' block. Indented.\n",
        "\n",
        "elif temperature > 60:     # 'elif' statement begins here, checking if temperature is greater than 60 but less than or equal to 80\n",
        "    print('It is warm.')  # INSIDE: This line is the body of the 'elif' statement. Indented.\n",
        "    recommendation = 'Consider wearing light clothing.'  # INSIDE: This line is part of the 'elif' statement's body.\n",
        "    print(recommendation)  # INSIDE: Continues inside the 'elif' block. Indented.\n",
        "\n",
        "else:                     # 'else' statement begins here, will execute if temperature is 60 or less\n",
        "    print('It is cool or cold.')  # INSIDE: This line is the body of the 'else' statement. Indented.\n",
        "    recommendation = 'Wear a jacket.'  # INSIDE: This line is part of the 'else' statement's body.\n",
        "    print(recommendation)  # INSIDE: Continues inside the 'else' block. Indented.\n",
        "\n",
        "print('Weather check complete.')  # OUTSIDE: This line is not part of the 'if', 'elif', or 'else' statements. It executes regardless of the conditions.\n"
      ]
    }
  ],
  "metadata": {
    "colab": {
      "provenance": []
    },
    "kernelspec": {
      "display_name": "Python 3",
      "name": "python3"
    },
    "language_info": {
      "name": "python"
    }
  },
  "nbformat": 4,
  "nbformat_minor": 0
}
