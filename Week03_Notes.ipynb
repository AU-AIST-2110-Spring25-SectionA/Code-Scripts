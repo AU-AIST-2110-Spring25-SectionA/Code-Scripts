{
  "cells": [
    {
      "cell_type": "markdown",
      "id": "af39cecb",
      "metadata": {
        "id": "af39cecb"
      },
      "source": [
        "# Chapter 2: Variables, Expressions, and Statements\n",
        "\n",
        "In this notebook, we'll explore the basic building blocks of programming: **variables**, **expressions**, **statements**, and **data types** in Python. Understanding these concepts is essential for writing effective Python code."
      ]
    },
    {
      "cell_type": "markdown",
      "id": "29f42303",
      "metadata": {
        "id": "29f42303"
      },
      "source": [
        "## Values and Types\n",
        "\n",
        "A **value** is a fundamental piece of data that a program manipulates. Values can be numbers, like `2` or `3.5`, or text, like `'Hello, World!'`. Every value in Python has a specific **type**:\n",
        "- `2` is an **integer** (`int`), representing whole numbers.\n",
        "- `3.5` is a **floating-point number** (`float`), allowing for decimal points.\n",
        "- `'Hello, World!'` is a **string** (`str`), a sequence of characters enclosed in quotes.\n",
        "\n",
        "Let's examine these types in action."
      ]
    },
    {
      "cell_type": "code",
      "execution_count": null,
      "id": "afbfa20d",
      "metadata": {
        "colab": {
          "base_uri": "https://localhost:8080/"
        },
        "id": "afbfa20d",
        "outputId": "761616c3-6c3a-4d70-dada-8ace43ee894e"
      },
      "outputs": [
        {
          "data": {
            "text/plain": [
              "4"
            ]
          },
          "execution_count": 1,
          "metadata": {},
          "output_type": "execute_result"
        }
      ],
      "source": [
        "4  # This is an integer (int)"
      ]
    },
    {
      "cell_type": "code",
      "execution_count": null,
      "id": "61ea6d6e",
      "metadata": {
        "colab": {
          "base_uri": "https://localhost:8080/"
        },
        "id": "61ea6d6e",
        "outputId": "efdfb25a-999e-4cfb-f9a9-f1dd68474c62"
      },
      "outputs": [
        {
          "data": {
            "text/plain": [
              "3.5"
            ]
          },
          "execution_count": 2,
          "metadata": {},
          "output_type": "execute_result"
        }
      ],
      "source": [
        "3.5  # This is a floating-point number (float)"
      ]
    },
    {
      "cell_type": "code",
      "execution_count": null,
      "id": "e72134b1",
      "metadata": {
        "colab": {
          "base_uri": "https://localhost:8080/",
          "height": 35
        },
        "id": "e72134b1",
        "outputId": "cfa97d34-c36d-40d4-9fad-a3a7cdd7e0f1"
      },
      "outputs": [
        {
          "data": {
            "application/vnd.google.colaboratory.intrinsic+json": {
              "type": "string"
            },
            "text/plain": [
              "'Hello, World!'"
            ]
          },
          "execution_count": 3,
          "metadata": {},
          "output_type": "execute_result"
        }
      ],
      "source": [
        "'Hello, World!'  # This is a string (str)"
      ]
    },
    {
      "cell_type": "markdown",
      "id": "77485aed",
      "metadata": {
        "id": "77485aed"
      },
      "source": [
        "### Checking Types\n",
        "\n",
        "Python provides the `type()` function to check the type of any value. This can be very useful for understanding how Python interprets different types of data."
      ]
    },
    {
      "cell_type": "code",
      "execution_count": null,
      "id": "a7f47ae7",
      "metadata": {
        "colab": {
          "base_uri": "https://localhost:8080/"
        },
        "id": "a7f47ae7",
        "outputId": "e55a38d7-0934-4253-ab90-f82c821f7b0f"
      },
      "outputs": [
        {
          "data": {
            "text/plain": [
              "int"
            ]
          },
          "execution_count": 1,
          "metadata": {},
          "output_type": "execute_result"
        }
      ],
      "source": [
        "type(4)  # Check the type of an integer"
      ]
    },
    {
      "cell_type": "markdown",
      "id": "0b3234bc",
      "metadata": {
        "id": "0b3234bc"
      },
      "source": [
        "When numbers include decimal points, they are treated as `float` types. The `float` type is useful for representing real numbers with fractional components."
      ]
    },
    {
      "cell_type": "code",
      "execution_count": null,
      "id": "f5dd25ab",
      "metadata": {
        "colab": {
          "base_uri": "https://localhost:8080/"
        },
        "id": "f5dd25ab",
        "outputId": "f82b7f0d-2952-4be6-9c21-a75d3a71c6a4"
      },
      "outputs": [
        {
          "data": {
            "text/plain": [
              "float"
            ]
          },
          "execution_count": 2,
          "metadata": {},
          "output_type": "execute_result"
        }
      ],
      "source": [
        "type(3.5)  # Check the type of a float"
      ]
    },
    {
      "cell_type": "markdown",
      "id": "c529cb5f",
      "metadata": {
        "id": "c529cb5f"
      },
      "source": [
        "Strings are used to represent text data in Python. They are enclosed in quotes (single or double). Python allows various operations with strings, which we will explore later."
      ]
    },
    {
      "cell_type": "code",
      "execution_count": null,
      "id": "8c4b0f19",
      "metadata": {
        "colab": {
          "base_uri": "https://localhost:8080/"
        },
        "id": "8c4b0f19",
        "outputId": "60c82ad5-fa5f-4ff2-b676-028e8cf1f070"
      },
      "outputs": [
        {
          "data": {
            "text/plain": [
              "str"
            ]
          },
          "execution_count": 8,
          "metadata": {},
          "output_type": "execute_result"
        }
      ],
      "source": [
        "type('Hello, World!')  # Check the type of a string"
      ]
    },
    {
      "cell_type": "markdown",
      "id": "dde181d4",
      "metadata": {
        "id": "dde181d4"
      },
      "source": [
        "Values like `'17'` and `'3.2'` look like numbers, but because they are enclosed in quotes, they are actually strings. Let's confirm that using the `type()` function."
      ]
    },
    {
      "cell_type": "code",
      "execution_count": null,
      "id": "810ad2c4",
      "metadata": {
        "colab": {
          "base_uri": "https://localhost:8080/"
        },
        "id": "810ad2c4",
        "outputId": "e6e4a83e-13f6-48b5-879f-7010477fd5f5"
      },
      "outputs": [
        {
          "data": {
            "text/plain": [
              "str"
            ]
          },
          "execution_count": 10,
          "metadata": {},
          "output_type": "execute_result"
        }
      ],
      "source": [
        "type('17')  # Check the type of a string\n"
      ]
    },
    {
      "cell_type": "code",
      "execution_count": null,
      "id": "c84d1192",
      "metadata": {
        "colab": {
          "base_uri": "https://localhost:8080/"
        },
        "id": "c84d1192",
        "outputId": "94fa5c77-385a-443f-ac1c-5dca3aae7310"
      },
      "outputs": [
        {
          "data": {
            "text/plain": [
              "str"
            ]
          },
          "execution_count": 11,
          "metadata": {},
          "output_type": "execute_result"
        }
      ],
      "source": [
        "type(\"3.2\")  # Check the type of a string\n"
      ]
    },
    {
      "cell_type": "markdown",
      "id": "bf6c09a3",
      "metadata": {
        "id": "bf6c09a3"
      },
      "source": [
        "### Boolean Values\n",
        "\n",
        "Sometimes, we need to represent a binary choice, like Yes/No or True/False. These are **Boolean** values, named after George Boole, a 19th-century mathematician. In Python, Booleans are represented as `True` and `False` (note the capital T and F)."
      ]
    },
    {
      "cell_type": "code",
      "execution_count": null,
      "id": "237e95f1",
      "metadata": {
        "colab": {
          "base_uri": "https://localhost:8080/"
        },
        "id": "237e95f1",
        "outputId": "d9e9b0d3-8301-4e99-a4fe-6fd1ab97e53a"
      },
      "outputs": [
        {
          "data": {
            "text/plain": [
              "bool"
            ]
          },
          "execution_count": 12,
          "metadata": {},
          "output_type": "execute_result"
        }
      ],
      "source": [
        "type(True)  # Check the type of a Boolean"
      ]
    },
    {
      "cell_type": "markdown",
      "id": "d42db8ce",
      "metadata": {
        "id": "d42db8ce"
      },
      "source": [
        "### Special Value: None\n",
        "\n",
        "In Python, there is a special value called `None`, which represents the absence of a value. It is of type `NoneType`. You will often encounter `None` as the default return value of functions that don't explicitly return a value."
      ]
    },
    {
      "cell_type": "code",
      "execution_count": null,
      "id": "d287595e",
      "metadata": {
        "colab": {
          "base_uri": "https://localhost:8080/"
        },
        "id": "d287595e",
        "outputId": "581fc49e-233e-4512-b5ff-6cb8c265b672"
      },
      "outputs": [
        {
          "data": {
            "text/plain": [
              "NoneType"
            ]
          },
          "execution_count": 13,
          "metadata": {},
          "output_type": "execute_result"
        }
      ],
      "source": [
        "type(None)  # Check the type of None"
      ]
    },
    {
      "cell_type": "markdown",
      "id": "f340121b",
      "metadata": {
        "id": "f340121b"
      },
      "source": [
        "## Printing Values\n",
        "\n",
        "Printing values is one of the simplest ways to interact with a program. The `print()` function in Python displays values or text on the screen. Below are some examples of printing different types of data."
      ]
    },
    {
      "cell_type": "code",
      "execution_count": null,
      "id": "d0bd8836",
      "metadata": {
        "colab": {
          "base_uri": "https://localhost:8080/"
        },
        "id": "d0bd8836",
        "outputId": "9ac841f4-0636-4580-9add-8086b9972947"
      },
      "outputs": [
        {
          "name": "stdout",
          "output_type": "stream",
          "text": [
            "74\n",
            "23.4\n",
            "Hello, world\n"
          ]
        }
      ],
      "source": [
        "print(74)  # Printing an integer\n",
        "print(23.4)  # Printing a float\n",
        "print(\"Hello, world\")  # Printing a string"
      ]
    },
    {
      "cell_type": "markdown",
      "id": "48f2e6ab",
      "metadata": {
        "id": "48f2e6ab"
      },
      "source": [
        "Be cautious when typing large integers. In Python, `1,000,000` is not a valid number because the commas are interpreted as separate items. If you want to represent a million, write `1000000`."
      ]
    },
    {
      "cell_type": "code",
      "execution_count": null,
      "id": "408983c9",
      "metadata": {
        "colab": {
          "base_uri": "https://localhost:8080/"
        },
        "id": "408983c9",
        "outputId": "1ba7a1f7-1950-4ee0-ce06-408a0c6b8120"
      },
      "outputs": [
        {
          "name": "stdout",
          "output_type": "stream",
          "text": [
            "1000000.00\n"
          ]
        }
      ],
      "source": [
        "print(f\"{1_000_000:.2f}\")  # This prints each number separated by a space\n"
      ]
    },
    {
      "cell_type": "code",
      "execution_count": null,
      "id": "9bc09e41",
      "metadata": {
        "id": "9bc09e41",
        "outputId": "a2828408-764b-469c-d3f1-ae5f4adebc00"
      },
      "outputs": [
        {
          "name": "stdout",
          "output_type": "stream",
          "text": [
            "5 bananas + 5 bananas is = to 10 bananas\n"
          ]
        }
      ],
      "source": [
        "print(\"5 bananas + 5 bananas is = to\", 5 + 5, \"bananas\" )"
      ]
    },
    {
      "cell_type": "markdown",
      "id": "a64da160",
      "metadata": {
        "id": "a64da160"
      },
      "source": [
        "## Variables\n",
        "\n",
        "A **variable** is a name that refers to a value. The value stored in a variable can be accessed later by using the variable's name. Variables are created using an **assignment statement**."
      ]
    },
    {
      "cell_type": "code",
      "execution_count": null,
      "id": "f974f103",
      "metadata": {
        "colab": {
          "base_uri": "https://localhost:8080/"
        },
        "id": "f974f103",
        "outputId": "7d15abf5-0bc5-4264-dd0e-652b636114d7"
      },
      "outputs": [
        {
          "name": "stdout",
          "output_type": "stream",
          "text": [
            "And now for something completely different\n"
          ]
        },
        {
          "data": {
            "text/plain": [
              "str"
            ]
          },
          "execution_count": 16,
          "metadata": {},
          "output_type": "execute_result"
        }
      ],
      "source": [
        "message = 'And now for something completely different'\n",
        "print(message)  # Print the value of the variable\n",
        "type(message)  # Check the type of the variable"
      ]
    },
    {
      "cell_type": "markdown",
      "id": "42e14d3f",
      "metadata": {
        "id": "42e14d3f"
      },
      "source": [
        "### Variable Names and Keywords\n",
        "\n",
        "Variable names can be of any length and can include letters and numbers, but they must begin with a letter (a-z, A-Z) or an underscore (`_`). Python keywords, like `class`, `for`, `return`, and `continue`, cannot be used as variable names. Keywords have special meaning in Python, so using them as variable names will result in errors."
      ]
    },
    {
      "cell_type": "code",
      "execution_count": null,
      "id": "42348ed2",
      "metadata": {
        "colab": {
          "base_uri": "https://localhost:8080/",
          "height": 106
        },
        "id": "42348ed2",
        "outputId": "c68f6390-85e9-4191-acf4-0a43f0ccb6a2"
      },
      "outputs": [
        {
          "ename": "SyntaxError",
          "evalue": "invalid decimal literal (<ipython-input-19-5a1ea2bbf78b>, line 3)",
          "output_type": "error",
          "traceback": [
            "\u001b[0;36m  File \u001b[0;32m\"<ipython-input-19-5a1ea2bbf78b>\"\u001b[0;36m, line \u001b[0;32m3\u001b[0m\n\u001b[0;31m    76trombones = 'big parade'  # Illegal: starts with a number\u001b[0m\n\u001b[0m     ^\u001b[0m\n\u001b[0;31mSyntaxError\u001b[0m\u001b[0;31m:\u001b[0m invalid decimal literal\n"
          ]
        }
      ],
      "source": [
        "# Examples of legal and illegal variable names\n",
        "legal_variable = 42  # Legal\n",
        "76trombones = 'big parade'  # Illegal: starts with a number\n",
        "more@ = 1000000  # Illegal: contains an illegal character\n",
        "class = 'Advanced Theoretical Zymurgy'  # Illegal: class is a keyword\n"
      ]
    },
    {
      "cell_type": "markdown",
      "id": "84cbaf95",
      "metadata": {
        "id": "84cbaf95"
      },
      "source": [
        "## Statements\n",
        "\n",
        "A **statement** is an instruction that the Python interpreter can execute. We have already seen two kinds of statements: the `print()` statement and the assignment statement."
      ]
    },
    {
      "cell_type": "code",
      "execution_count": null,
      "id": "e3c5daad",
      "metadata": {
        "colab": {
          "base_uri": "https://localhost:8080/"
        },
        "id": "e3c5daad",
        "outputId": "0f657428-cd64-486c-bd79-124a43a2b124"
      },
      "outputs": [
        {
          "name": "stdout",
          "output_type": "stream",
          "text": [
            "1\n",
            "2\n"
          ]
        }
      ],
      "source": [
        "print(1)\n",
        "x = 2\n",
        "print(x)"
      ]
    },
    {
      "cell_type": "markdown",
      "id": "U3o7-fPj0xOf",
      "metadata": {
        "id": "U3o7-fPj0xOf"
      },
      "source": [
        "Here, the variable `x` is assigned the value `2`. The assignment statement does not produce any output. The `print()` statement is used to display the value of `x`."
      ]
    },
    {
      "cell_type": "markdown",
      "id": "813268c2",
      "metadata": {
        "id": "813268c2"
      },
      "source": [
        "## Operators and Operands\n",
        "\n",
        "Operators are symbols that represent computations like addition (`+`) and multiplication (`*`). The values that the operator is applied to are called operands. Let's explore some basic arithmetic operations."
      ]
    },
    {
      "cell_type": "code",
      "execution_count": null,
      "id": "893586ce",
      "metadata": {
        "colab": {
          "base_uri": "https://localhost:8080/"
        },
        "id": "893586ce",
        "outputId": "212db46a-a853-48a1-d65b-814540c1c51b"
      },
      "outputs": [
        {
          "data": {
            "text/plain": [
              "112"
            ]
          },
          "execution_count": 24,
          "metadata": {},
          "output_type": "execute_result"
        }
      ],
      "source": [
        "20 + 32  # Addition\n",
        "hour = 9\n",
        "minute = 45\n",
        "hour - 1  # Subtraction\n",
        "hour * 60 + minute  # Multiplication and addition\n",
        "minute / 60  # Division\n",
        "5 ** 2  # Exponentiation\n",
        "(5 + 9) * (15 - 7)  # Multiple operations with parentheses"
      ]
    },
    {
      "cell_type": "markdown",
      "id": "tMgHoVAUvV0m",
      "metadata": {
        "id": "tMgHoVAUvV0m"
      },
      "source": [
        "In an interactive Python environment like Google Colab, only the last evaluated expression in a cell is displayed by default. If you want to see all the results, use the `print()` function for each expression."
      ]
    },
    {
      "cell_type": "code",
      "execution_count": null,
      "id": "kUGMPA2nvbEE",
      "metadata": {
        "colab": {
          "base_uri": "https://localhost:8080/"
        },
        "id": "kUGMPA2nvbEE",
        "outputId": "3331f8d5-42b7-4a4d-c6b7-eb44fd8fd3d9"
      },
      "outputs": [
        {
          "name": "stdout",
          "output_type": "stream",
          "text": [
            "52\n",
            "8\n",
            "585\n",
            "0.75\n",
            "25\n",
            "112\n"
          ]
        }
      ],
      "source": [
        "print(20 + 32)\n",
        "hour = 9\n",
        "minute = 45\n",
        "print(hour - 1)\n",
        "print(hour * 60 + minute)\n",
        "print(minute / 60)\n",
        "print(5 ** 2)\n",
        "print((5 + 9) * (15 - 7))"
      ]
    },
    {
      "cell_type": "markdown",
      "id": "e2c1e77b",
      "metadata": {
        "id": "e2c1e77b"
      },
      "source": [
        "## Expressions\n",
        "\n",
        "An **expression** is a combination of values, variables, and operators that, when evaluated, produces a value. A single value or a variable on its own is also considered an expression."
      ]
    },
    {
      "cell_type": "code",
      "execution_count": null,
      "id": "0fc005c9",
      "metadata": {
        "colab": {
          "base_uri": "https://localhost:8080/"
        },
        "id": "0fc005c9",
        "outputId": "57c6ab6e-1522-452c-efc7-4f41ca53f97b"
      },
      "outputs": [
        {
          "name": "stdout",
          "output_type": "stream",
          "text": [
            "22\n",
            "2\n"
          ]
        }
      ],
      "source": [
        "17  # An expression (a literal value)\n",
        "x = 5  # Assignment statement\n",
        "print(x + 17)  # Expression involving a variable\n",
        "print(1 + 1)  # Simple arithmetic expression"
      ]
    },
    {
      "cell_type": "markdown",
      "id": "11b761f6",
      "metadata": {
        "id": "11b761f6"
      },
      "source": [
        "## Order of Operations\n",
        "\n",
        "When an expression contains multiple operators, the order of evaluation depends on operator precedence. The acronym **PEMDAS** can help you remember the order:\n",
        "- **P**arentheses\n",
        "- **E**xponentiation\n",
        "- **M**ultiplication and **D**ivision (from left to right)\n",
        "- **A**ddition and **S**ubtraction (from left to right)"
      ]
    },
    {
      "cell_type": "code",
      "execution_count": null,
      "id": "fd112ffd",
      "metadata": {
        "colab": {
          "base_uri": "https://localhost:8080/"
        },
        "id": "fd112ffd",
        "outputId": "ae54ed2e-f757-4ffa-fec4-15f766b35110"
      },
      "outputs": [
        {
          "data": {
            "text/plain": [
              "4"
            ]
          },
          "execution_count": 28,
          "metadata": {},
          "output_type": "execute_result"
        }
      ],
      "source": [
        "2 * (3 - 1)  # Parentheses ensure subtraction happens before multiplication"
      ]
    },
    {
      "cell_type": "code",
      "execution_count": null,
      "id": "e7035cc0",
      "metadata": {
        "colab": {
          "base_uri": "https://localhost:8080/"
        },
        "id": "e7035cc0",
        "outputId": "6542834b-b325-49cc-ab36-845996dae590"
      },
      "outputs": [
        {
          "data": {
            "text/plain": [
              "8"
            ]
          },
          "execution_count": 29,
          "metadata": {},
          "output_type": "execute_result"
        }
      ],
      "source": [
        "(1 + 1) ** (5 - 2)  # Exponentiation occurs after parentheses"
      ]
    },
    {
      "cell_type": "code",
      "execution_count": null,
      "id": "c5ed199c",
      "metadata": {
        "colab": {
          "base_uri": "https://localhost:8080/"
        },
        "id": "c5ed199c",
        "outputId": "bb6c6681-a7d1-45a8-f431-ad66f2d0a19c"
      },
      "outputs": [
        {
          "data": {
            "text/plain": [
              "3"
            ]
          },
          "execution_count": 30,
          "metadata": {},
          "output_type": "execute_result"
        }
      ],
      "source": [
        "2 ** 1 + 1  # Exponentiation happens first, followed by addition"
      ]
    },
    {
      "cell_type": "code",
      "execution_count": null,
      "id": "d6d92702",
      "metadata": {
        "colab": {
          "base_uri": "https://localhost:8080/"
        },
        "id": "d6d92702",
        "outputId": "585b5011-3415-4994-be18-9e5b8a4594d7"
      },
      "outputs": [
        {
          "data": {
            "text/plain": [
              "3"
            ]
          },
          "execution_count": 31,
          "metadata": {},
          "output_type": "execute_result"
        }
      ],
      "source": [
        "3 * 1 ** 3  # Exponentiation occurs before multiplication"
      ]
    },
    {
      "cell_type": "code",
      "execution_count": null,
      "id": "49f563c0",
      "metadata": {
        "colab": {
          "base_uri": "https://localhost:8080/"
        },
        "id": "49f563c0",
        "outputId": "de96cbb2-c4c3-49e1-dfb2-e9a8ea6d2b98"
      },
      "outputs": [
        {
          "data": {
            "text/plain": [
              "5"
            ]
          },
          "execution_count": 32,
          "metadata": {},
          "output_type": "execute_result"
        }
      ],
      "source": [
        "2 * 3 - 1  # Multiplication happens before subtraction"
      ]
    },
    {
      "cell_type": "code",
      "execution_count": null,
      "id": "deb8ef1f",
      "metadata": {
        "colab": {
          "base_uri": "https://localhost:8080/"
        },
        "id": "deb8ef1f",
        "outputId": "5db48c61-7469-4f4b-9a6e-da6b5b9d7e88"
      },
      "outputs": [
        {
          "data": {
            "text/plain": [
              "8.0"
            ]
          },
          "execution_count": 33,
          "metadata": {},
          "output_type": "execute_result"
        }
      ],
      "source": [
        "6 + 4 / 2  # Division happens before addition"
      ]
    },
    {
      "cell_type": "code",
      "execution_count": null,
      "id": "9d273ab8",
      "metadata": {
        "colab": {
          "base_uri": "https://localhost:8080/"
        },
        "id": "9d273ab8",
        "outputId": "43c31f61-5553-43e1-bea4-516754fa5013"
      },
      "outputs": [
        {
          "data": {
            "text/plain": [
              "1"
            ]
          },
          "execution_count": 34,
          "metadata": {},
          "output_type": "execute_result"
        }
      ],
      "source": [
        "5 - 3 - 1  # Subtraction is performed left to right"
      ]
    },
    {
      "cell_type": "markdown",
      "id": "1fa18964",
      "metadata": {
        "id": "1fa18964"
      },
      "source": [
        "## Modulus Operator\n",
        "\n",
        "The **modulus operator** (`%`) returns the remainder of the division between two numbers. This can be useful in various situations, such as checking if a number is even or odd."
      ]
    },
    {
      "cell_type": "code",
      "execution_count": null,
      "id": "5a0b6051",
      "metadata": {
        "colab": {
          "base_uri": "https://localhost:8080/"
        },
        "id": "5a0b6051",
        "outputId": "192eca5a-f700-450c-e83d-32b3a1361f06"
      },
      "outputs": [
        {
          "name": "stdout",
          "output_type": "stream",
          "text": [
            "2\n",
            "1\n"
          ]
        }
      ],
      "source": [
        "quotient = 7 // 3  # Floor division\n",
        "remainder = 7 % 3  # Modulus operation\n",
        "print(quotient)  # Prints 2\n",
        "print(remainder)  # Prints 1"
      ]
    },
    {
      "cell_type": "code",
      "execution_count": null,
      "id": "18ffa761",
      "metadata": {
        "id": "18ffa761",
        "outputId": "02dec1fd-f7d1-40d8-ee00-274a44f40a52"
      },
      "outputs": [
        {
          "data": {
            "text/plain": [
              "0"
            ]
          },
          "execution_count": 16,
          "metadata": {},
          "output_type": "execute_result"
        }
      ],
      "source": [
        "6 % 2"
      ]
    },
    {
      "cell_type": "markdown",
      "id": "624e7255",
      "metadata": {
        "id": "624e7255"
      },
      "source": [
        "## String Operations\n",
        "\n",
        "The `+` operator works with strings, but instead of adding, it **concatenates** (joins) the strings together. The `*` operator can repeat a string a specified number of times."
      ]
    },
    {
      "cell_type": "code",
      "execution_count": null,
      "id": "a5442109",
      "metadata": {
        "colab": {
          "base_uri": "https://localhost:8080/"
        },
        "id": "a5442109",
        "outputId": "e81ecb14-e8bf-4e20-80de-3e0f18dafebb"
      },
      "outputs": [
        {
          "name": "stdout",
          "output_type": "stream",
          "text": [
            "25\n"
          ]
        }
      ],
      "source": [
        "first = 10\n",
        "second = 15\n",
        "print(first + second)  # Addition of numbers"
      ]
    },
    {
      "cell_type": "code",
      "execution_count": null,
      "id": "b0a1d9ff",
      "metadata": {
        "colab": {
          "base_uri": "https://localhost:8080/"
        },
        "id": "b0a1d9ff",
        "outputId": "d3d8f579-ccef-4ab8-b946-05af9357366a"
      },
      "outputs": [
        {
          "name": "stdout",
          "output_type": "stream",
          "text": [
            "100150\n"
          ]
        }
      ],
      "source": [
        "first = '100'\n",
        "second = '150'\n",
        "print(first + second)  # Concatenation of strings"
      ]
    },
    {
      "cell_type": "code",
      "execution_count": null,
      "id": "449a42bf",
      "metadata": {
        "colab": {
          "base_uri": "https://localhost:8080/"
        },
        "id": "449a42bf",
        "outputId": "6a5ec9f8-25eb-4b7a-ba22-af0018d0b121"
      },
      "outputs": [
        {
          "name": "stdout",
          "output_type": "stream",
          "text": [
            "Test Test Test \n"
          ]
        }
      ],
      "source": [
        "first = 'Test '\n",
        "second = 3\n",
        "print(first * second)  # Repeat the string three times"
      ]
    },
    {
      "cell_type": "code",
      "execution_count": null,
      "id": "2b96af13",
      "metadata": {
        "colab": {
          "base_uri": "https://localhost:8080/",
          "height": 159
        },
        "id": "2b96af13",
        "outputId": "39f4f729-900e-4bc2-ae79-06465fdec80b"
      },
      "outputs": [
        {
          "ename": "TypeError",
          "evalue": "unsupported operand type(s) for -: 'str' and 'str'",
          "output_type": "error",
          "traceback": [
            "\u001b[0;31m---------------------------------------------------------------------------\u001b[0m",
            "\u001b[0;31mTypeError\u001b[0m                                 Traceback (most recent call last)",
            "\u001b[0;32m<ipython-input-39-8d43738dc272>\u001b[0m in \u001b[0;36m<cell line: 2>\u001b[0;34m()\u001b[0m\n\u001b[1;32m      1\u001b[0m \u001b[0;31m# This will break!\u001b[0m\u001b[0;34m\u001b[0m\u001b[0;34m\u001b[0m\u001b[0m\n\u001b[0;32m----> 2\u001b[0;31m \u001b[0mprint\u001b[0m\u001b[0;34m(\u001b[0m\u001b[0;34m\"Can't subtract\"\u001b[0m \u001b[0;34m-\u001b[0m \u001b[0;34m\"strings\"\u001b[0m\u001b[0;34m)\u001b[0m\u001b[0;34m\u001b[0m\u001b[0;34m\u001b[0m\u001b[0m\n\u001b[0m",
            "\u001b[0;31mTypeError\u001b[0m: unsupported operand type(s) for -: 'str' and 'str'"
          ]
        }
      ],
      "source": [
        "# This will break!\n",
        "print(\"Can't subtract\" - \"strings\")"
      ]
    },
    {
      "cell_type": "markdown",
      "id": "81e5fd2b",
      "metadata": {
        "id": "81e5fd2b"
      },
      "source": [
        "The type of a value determines what operations you can perform on it. For example, you can add or subtract numbers, but you cannot subtract strings. Understanding types is crucial for preventing and debugging errors in your programs."
      ]
    },
    {
      "cell_type": "markdown",
      "id": "9fcbb9e5",
      "metadata": {
        "id": "9fcbb9e5"
      },
      "source": [
        "## Asking the User for Input\n",
        "\n",
        "Python provides the `input()` function to get input from the user. When called, the program pauses and waits for the user to type something. The input is always returned as a string, even if it looks like a number."
      ]
    },
    {
      "cell_type": "code",
      "execution_count": null,
      "id": "09bfcaa7",
      "metadata": {
        "colab": {
          "base_uri": "https://localhost:8080/"
        },
        "id": "09bfcaa7",
        "outputId": "bc1ccbbf-0e28-4ff1-d154-7729a7e95598"
      },
      "outputs": [
        {
          "name": "stdout",
          "output_type": "stream",
          "text": [
            "Python\n",
            "Python\n"
          ]
        }
      ],
      "source": [
        "inp = input()\n",
        "print(inp)  # Displays what the user types"
      ]
    },
    {
      "cell_type": "code",
      "execution_count": null,
      "id": "9bd5f80c",
      "metadata": {
        "colab": {
          "base_uri": "https://localhost:8080/"
        },
        "id": "9bd5f80c",
        "outputId": "77a98040-dcaf-49ca-d2ce-df157c5df43e"
      },
      "outputs": [
        {
          "name": "stdout",
          "output_type": "stream",
          "text": [
            "What is your name?\n",
            "Lin\n",
            "Lin\n"
          ]
        }
      ],
      "source": [
        "name = input('What is your name?\\n')\n",
        "print(name)  # Displays the user's name"
      ]
    },
    {
      "cell_type": "code",
      "execution_count": null,
      "id": "eba82bfe",
      "metadata": {
        "colab": {
          "base_uri": "https://localhost:8080/",
          "height": 211
        },
        "id": "eba82bfe",
        "outputId": "8083db4e-3d73-499b-b6e7-0d25b94eb022"
      },
      "outputs": [
        {
          "name": "stdout",
          "output_type": "stream",
          "text": [
            "What...is the airspeed velocity of an unladen swallow?\n",
            "speed\n"
          ]
        },
        {
          "ename": "ValueError",
          "evalue": "invalid literal for int() with base 10: 'speed'",
          "output_type": "error",
          "traceback": [
            "\u001b[0;31m---------------------------------------------------------------------------\u001b[0m",
            "\u001b[0;31mValueError\u001b[0m                                Traceback (most recent call last)",
            "\u001b[0;32m<ipython-input-44-a27f77f8088f>\u001b[0m in \u001b[0;36m<cell line: 3>\u001b[0;34m()\u001b[0m\n\u001b[1;32m      1\u001b[0m \u001b[0mprompt\u001b[0m \u001b[0;34m=\u001b[0m \u001b[0;34m'What...is the airspeed velocity of an unladen swallow?\\n'\u001b[0m\u001b[0;34m\u001b[0m\u001b[0;34m\u001b[0m\u001b[0m\n\u001b[1;32m      2\u001b[0m \u001b[0mspeed\u001b[0m \u001b[0;34m=\u001b[0m \u001b[0minput\u001b[0m\u001b[0;34m(\u001b[0m\u001b[0mprompt\u001b[0m\u001b[0;34m)\u001b[0m\u001b[0;34m\u001b[0m\u001b[0;34m\u001b[0m\u001b[0m\n\u001b[0;32m----> 3\u001b[0;31m \u001b[0mprint\u001b[0m\u001b[0;34m(\u001b[0mint\u001b[0m\u001b[0;34m(\u001b[0mspeed\u001b[0m\u001b[0;34m)\u001b[0m \u001b[0;34m+\u001b[0m \u001b[0;36m5\u001b[0m\u001b[0;34m)\u001b[0m \u001b[0;31m# try with integer and string\u001b[0m\u001b[0;34m\u001b[0m\u001b[0;34m\u001b[0m\u001b[0m\n\u001b[0m",
            "\u001b[0;31mValueError\u001b[0m: invalid literal for int() with base 10: 'speed'"
          ]
        }
      ],
      "source": [
        "prompt = 'What...is the airspeed velocity of an unladen swallow?\\n'\n",
        "speed = input(prompt)\n",
        "print(int(speed) + 5)  # Attempt to convert to an integer"
      ]
    },
    {
      "cell_type": "markdown",
      "id": "26595987",
      "metadata": {
        "id": "26595987"
      },
      "source": [
        "## Comments\n",
        "\n",
        "As programs get more complex, it's important to add comments explaining what your code does. Comments are ignored by Python, but they help you and others understand your code."
      ]
    },
    {
      "cell_type": "code",
      "execution_count": null,
      "id": "4657b393",
      "metadata": {
        "colab": {
          "base_uri": "https://localhost:8080/"
        },
        "id": "4657b393",
        "outputId": "70591739-f8f2-4a11-86d8-d31bd32eab26"
      },
      "outputs": [
        {
          "name": "stdout",
          "output_type": "stream",
          "text": [
            "75.0\n"
          ]
        }
      ],
      "source": [
        "# This is a comment\n",
        "percentage = (minute * 100) / 60  # Calculate the percentage of an hour\n",
        "print(percentage)"
      ]
    },
    {
      "cell_type": "markdown",
      "id": "45c732dc",
      "metadata": {
        "id": "45c732dc"
      },
      "source": [
        "## Choosing Mnemonic Variable Names\n",
        "\n",
        "Choose variable names that make your code easier to understand. Good variable names can make a program almost self-documenting."
      ]
    },
    {
      "cell_type": "code",
      "execution_count": null,
      "id": "sSVcASEJyofO",
      "metadata": {
        "colab": {
          "base_uri": "https://localhost:8080/"
        },
        "id": "sSVcASEJyofO",
        "outputId": "608db129-69e3-4159-8a21-2a7d98804364"
      },
      "outputs": [
        {
          "name": "stdout",
          "output_type": "stream",
          "text": [
            "437.5\n"
          ]
        }
      ],
      "source": [
        "x1q3z9ahd = 35.0\n",
        "x1q3z9afd = 12.50\n",
        "x1q3p9afd = x1q3z9ahd * x1q3z9afd\n",
        "print(x1q3p9afd)  # This is hard to read!"
      ]
    },
    {
      "cell_type": "code",
      "execution_count": null,
      "id": "484e8195",
      "metadata": {
        "colab": {
          "base_uri": "https://localhost:8080/"
        },
        "id": "484e8195",
        "outputId": "545346d0-35ae-4df7-afe0-ea6b18538209"
      },
      "outputs": [
        {
          "name": "stdout",
          "output_type": "stream",
          "text": [
            "437.5\n"
          ]
        }
      ],
      "source": [
        "hours = 35.0\n",
        "rate = 12.50\n",
        "pay = hours * rate  # Calculate the total pay\n",
        "print(pay)"
      ]
    },
    {
      "cell_type": "markdown",
      "id": "ZfMxtonQyqR3",
      "metadata": {
        "id": "ZfMxtonQyqR3"
      },
      "source": [
        "The Python interpreter treats these two programs as exactly the same, but the first version is much easier for humans to read and understand. This is why choosing meaningful variable names is important."
      ]
    },
    {
      "cell_type": "markdown",
      "id": "56391927",
      "metadata": {
        "id": "56391927"
      },
      "source": [
        "## Debugging\n",
        "\n",
        "At this stage, the most common errors you will encounter are **SyntaxErrors** due to illegal variable names (e.g., using a keyword like `class` as a variable name) or **NameErrors** from trying to use a variable before it has been defined."
      ]
    },
    {
      "cell_type": "markdown",
      "id": "51b161b4",
      "metadata": {
        "id": "51b161b4"
      },
      "source": [
        "Debugging is the process of identifying and fixing errors in your code. Here are some strategies:\n",
        "\n",
        "- **Reading:** Carefully examine your code, and read it back to yourself.\n",
        "- **Running:** Experiment by making small changes and running different versions to isolate the problem.\n",
        "- **Ruminating:** Take time to think about the error type and gather as much information as possible.\n",
        "- **Retreating:** If necessary, undo recent changes until you return to a working state, then rebuild."
      ]
    },
    {
      "cell_type": "code",
      "execution_count": null,
      "id": "a68326af",
      "metadata": {
        "colab": {
          "base_uri": "https://localhost:8080/",
          "height": 176
        },
        "id": "a68326af",
        "outputId": "a24d903f-7797-4e87-8c4c-41c4a3aa9654"
      },
      "outputs": [
        {
          "ename": "NameError",
          "evalue": "name 'principle' is not defined",
          "output_type": "error",
          "traceback": [
            "\u001b[0;31m---------------------------------------------------------------------------\u001b[0m",
            "\u001b[0;31mNameError\u001b[0m                                 Traceback (most recent call last)",
            "\u001b[0;32m<ipython-input-48-692c8b6fef60>\u001b[0m in \u001b[0;36m<cell line: 3>\u001b[0;34m()\u001b[0m\n\u001b[1;32m      1\u001b[0m \u001b[0;31m# Example of a NameError\u001b[0m\u001b[0;34m\u001b[0m\u001b[0;34m\u001b[0m\u001b[0m\n\u001b[1;32m      2\u001b[0m \u001b[0mprincipal\u001b[0m \u001b[0;34m=\u001b[0m \u001b[0;36m327.68\u001b[0m\u001b[0;34m\u001b[0m\u001b[0;34m\u001b[0m\u001b[0m\n\u001b[0;32m----> 3\u001b[0;31m \u001b[0minterest\u001b[0m \u001b[0;34m=\u001b[0m \u001b[0mprinciple\u001b[0m \u001b[0;34m*\u001b[0m \u001b[0mrate\u001b[0m  \u001b[0;31m# Note the typo\u001b[0m\u001b[0;34m\u001b[0m\u001b[0;34m\u001b[0m\u001b[0m\n\u001b[0m",
            "\u001b[0;31mNameError\u001b[0m: name 'principle' is not defined"
          ]
        }
      ],
      "source": [
        "# Example of a NameError\n",
        "principal = 327.68\n",
        "interest = principle * rate  # Note the typo"
      ]
    },
    {
      "cell_type": "code",
      "execution_count": null,
      "id": "MhWkXQHdzZ1H",
      "metadata": {
        "colab": {
          "base_uri": "https://localhost:8080/",
          "height": 106
        },
        "id": "MhWkXQHdzZ1H",
        "outputId": "90e43bc2-cec9-47ca-dbf1-68fd9e8486bd"
      },
      "outputs": [
        {
          "ename": "SyntaxError",
          "evalue": "invalid syntax (<ipython-input-52-e55a2aa066b2>, line 1)",
          "output_type": "error",
          "traceback": [
            "\u001b[0;36m  File \u001b[0;32m\"<ipython-input-52-e55a2aa066b2>\"\u001b[0;36m, line \u001b[0;32m1\u001b[0m\n\u001b[0;31m    bad name = 5\u001b[0m\n\u001b[0m        ^\u001b[0m\n\u001b[0;31mSyntaxError\u001b[0m\u001b[0;31m:\u001b[0m invalid syntax\n"
          ]
        }
      ],
      "source": [
        "bad name = 5\n",
        "# If you put a space in a variable name, Python thinks it is two operands without an operator:"
      ]
    },
    {
      "cell_type": "markdown",
      "id": "iwSZaB3-0B6P",
      "metadata": {
        "id": "iwSZaB3-0B6P"
      },
      "source": [
        "Variables names are case sensitive, so `LaTeX` is not the same as `latex`."
      ]
    }
  ],
  "metadata": {
    "colab": {
      "provenance": []
    },
    "kernelspec": {
      "display_name": "Python 3",
      "language": "python",
      "name": "python3"
    },
    "language_info": {
      "codemirror_mode": {
        "name": "ipython",
        "version": 3
      },
      "file_extension": ".py",
      "mimetype": "text/x-python",
      "name": "python",
      "nbconvert_exporter": "python",
      "pygments_lexer": "ipython3",
      "version": "3.12.1"
    }
  },
  "nbformat": 4,
  "nbformat_minor": 5
}