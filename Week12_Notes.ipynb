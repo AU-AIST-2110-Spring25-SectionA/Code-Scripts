{
  "nbformat": 4,
  "nbformat_minor": 0,
  "metadata": {
    "colab": {
      "provenance": []
    },
    "kernelspec": {
      "name": "python3",
      "display_name": "Python 3"
    },
    "language_info": {
      "name": "python"
    }
  },
  "cells": [
    {
      "cell_type": "markdown",
      "source": [
        "# More on Sequences and Iteration\n",
        "*`PY4E Textbook`*"
      ],
      "metadata": {
        "id": "dithN-p-J5JA"
      }
    },
    {
      "cell_type": "markdown",
      "source": [
        "## Definite loops using for\n",
        "\n",
        "Sometimes we want to loop through a set of things such as a list of words, the lines in a file, or a list of numbers. When we have a list of things to loop through, we can construct a definite loop using a `for` statement. We call the `while` statement an *indefinite* loop because it simply loops until some condition becomes `False`, whereas the for loop is looping through a known set of items so it runs through as many iterations as there are items in the set.\n",
        "\n",
        "The syntax of a `for` loop is similar to the `while` loop in that there is a `for` statement and a loop body:"
      ],
      "metadata": {
        "id": "Zmq1MMf1Lbvo"
      }
    },
    {
      "cell_type": "code",
      "execution_count": null,
      "metadata": {
        "colab": {
          "base_uri": "https://localhost:8080/"
        },
        "id": "nx6flTYgJrDg",
        "outputId": "e0f750f4-4f5a-4d16-c000-e1ffadc3111a"
      },
      "outputs": [
        {
          "output_type": "stream",
          "name": "stdout",
          "text": [
            "Happy New Year: Joseph\n",
            "Happy New Year: Glenn\n",
            "Happy New Year: Sally\n",
            "Done!\n"
          ]
        }
      ],
      "source": [
        "friends = ['Joseph', 'Glenn', 'Sally']\n",
        "for friend in friends:\n",
        "    print('Happy New Year:', friend)\n",
        "print('Done!')"
      ]
    },
    {
      "cell_type": "markdown",
      "source": [
        "In Python terms, the variable `friends` is a list1 of three strings and the `for` loop goes through the list and executes the body once for each of the three strings in the list resulting in this output.\n",
        "\n",
        "Translating this `for` loop to English is not as direct as the `while`, but if you think of friends as a set, it goes like this: “Run the statements in the body of the `for` loop once for each `friend` in the set named `friends`.”"
      ],
      "metadata": {
        "id": "qcLFxyNDL8sG"
      }
    },
    {
      "cell_type": "markdown",
      "source": [
        "## Loop patterns\n",
        "Often we use a `for` or `while` loop to go through a list of items or the contents of a file and we are looking for something such as the largest or smallest value of the data we scan through.\n",
        "\n",
        "These loops are generally constructed by:\n",
        "\n",
        "- Initializing one or more variables before the loop starts\n",
        "\n",
        "- Performing some computation on each item in the loop body, possibly changing the variables in the body of the loop\n",
        "\n",
        "- Looking at the resulting variables when the loop completes\n",
        "\n",
        "- We will use a list of numbers to demonstrate the concepts and construction of these loop patterns.\n",
        "\n",
        "\n",
        "### Counting and summing loops\n",
        "For example, to count the number of items in a list, we would write the following `for` loop:"
      ],
      "metadata": {
        "id": "r8TwRw4lMaGX"
      }
    },
    {
      "cell_type": "code",
      "source": [
        "count = 0\n",
        "for itervar in [3, 41, 12, 9, 74, 15]:\n",
        "    count += 1\n",
        "print('Count: ', count)"
      ],
      "metadata": {
        "colab": {
          "base_uri": "https://localhost:8080/"
        },
        "id": "wRyM5G47NI-f",
        "outputId": "f6c7d781-928b-4a54-e391-41a4ab00df7a"
      },
      "execution_count": null,
      "outputs": [
        {
          "output_type": "stream",
          "name": "stdout",
          "text": [
            "Count:  6\n"
          ]
        }
      ]
    },
    {
      "cell_type": "markdown",
      "source": [
        "**How to calculate the total count and the sum of even numbers from a list?**"
      ],
      "metadata": {
        "id": "TPXwWtSHZNOk"
      }
    },
    {
      "cell_type": "code",
      "source": [
        "count = 0\n",
        "even_sum = 0\n",
        "numbers = [3, 41, 12, 9, 74, 15, 27, 35, 22, 50, 17, 60, 11, 98, 33, 47]\n",
        "\n",
        "for num in numbers:\n",
        "    count += 1  # Increment count for each item in the list\n",
        "    if num % 2 == 0:  # Check if the number is even\n",
        "        even_sum += num  # Add even number to even_sum\n",
        "\n",
        "print('Total Count:', count)\n",
        "print('Sum of Even Numbers:', even_sum)"
      ],
      "metadata": {
        "colab": {
          "base_uri": "https://localhost:8080/"
        },
        "id": "X54lz4JcOIaO",
        "outputId": "5f4319cb-2983-4b3a-b504-574c22d7310a"
      },
      "execution_count": null,
      "outputs": [
        {
          "output_type": "stream",
          "name": "stdout",
          "text": [
            "Total Count: 16\n",
            "Sum of Even Numbers: 316\n"
          ]
        }
      ]
    },
    {
      "cell_type": "markdown",
      "source": [
        "**Can I change this `for` loop int a `while` loop?**"
      ],
      "metadata": {
        "id": "qKr48mvUV5aK"
      }
    },
    {
      "cell_type": "code",
      "source": [
        "count = 0\n",
        "even_sum = 0\n",
        "numbers = [3, 41, 12, 9, 74, 15, 27, 35, 22, 50, 17, 60, 11, 98, 33, 47]\n",
        "\n",
        "index = 0  # Start index for while loop\n",
        "\n",
        "while index < len(numbers):\n",
        "    num = numbers[index]  # Access the current number\n",
        "    count += 1  # Increment count for each item in the list\n",
        "\n",
        "    if num % 2 == 0:  # Check if the number is even\n",
        "        even_sum += num  # Add even number to even_sum\n",
        "\n",
        "    index += 1  # Move to the next index\n",
        "\n",
        "print('Total Count:', count)\n",
        "print('Sum of Even Numbers:', even_sum)\n"
      ],
      "metadata": {
        "colab": {
          "base_uri": "https://localhost:8080/"
        },
        "id": "v8p5CFdVWhXK",
        "outputId": "65de5f6c-626d-4062-e4e0-0618a3a63d08"
      },
      "execution_count": null,
      "outputs": [
        {
          "output_type": "stream",
          "name": "stdout",
          "text": [
            "Total Count: 16\n",
            "Sum of Even Numbers: 316\n"
          ]
        }
      ]
    },
    {
      "cell_type": "markdown",
      "source": [
        "**Can I wrap the `while` loop inside a function?**"
      ],
      "metadata": {
        "id": "KHH1cmjYYwvs"
      }
    },
    {
      "cell_type": "code",
      "source": [
        "def count_and_sum_evens(numbers):\n",
        "    count = 0\n",
        "    even_sum = 0\n",
        "    index = 0  # Start index for while loop\n",
        "\n",
        "    while index < len(numbers):\n",
        "        num = numbers[index]  # Access the current number\n",
        "        count += 1  # Increment count for each item in the list\n",
        "\n",
        "        if num % 2 == 0:  # Check if the number is even\n",
        "            even_sum += num  # Add even number to even_sum\n",
        "\n",
        "        index += 1  # Move to the next index\n",
        "\n",
        "    return count, even_sum  # Return both count and even_sum\n",
        "\n",
        "# Example usage\n",
        "numbers = [3, 41, 12, 9, 74, 15, 27, 35, 22, 50, 17, 60, 11, 98, 33, 47]\n",
        "total_count, even_sum = count_and_sum_evens(numbers)\n",
        "print('Total Count:', total_count)\n",
        "print('Sum of Even Numbers:', even_sum)\n"
      ],
      "metadata": {
        "colab": {
          "base_uri": "https://localhost:8080/"
        },
        "id": "p82P4Mi3Y5RF",
        "outputId": "72ab32a1-dabd-4bad-c6ef-a686c50923ed"
      },
      "execution_count": null,
      "outputs": [
        {
          "output_type": "stream",
          "name": "stdout",
          "text": [
            "Total Count: 16\n",
            "Sum of Even Numbers: 316\n"
          ]
        }
      ]
    },
    {
      "cell_type": "markdown",
      "source": [
        "**Explanation**\n",
        "\n",
        "1. **Function Definition**: The `count_and_sum_evens` function takes one argument, `numbers`, which is the list of integers to process.\n",
        "2. **Initializations**: Inside the function, `count`, `even_sum`, and `index` are initialized.\n",
        "3. **While Loop**: The function iterates through `numbers` using a `while` loop.\n",
        "4. **Conditionals and Incrementation**: As in the previous example, it increments `count`, checks for even numbers, and adds them to `even_sum` if they are even.\n",
        "5. **Return Statement**: After the loop completes, the function returns both the total count of elements and the sum of even numbers.\n",
        "6. **Example Usage**: Outside the function, `count_and_sum_evens` is called with a list of numbers, and the results are printed.\n"
      ],
      "metadata": {
        "id": "tcx8OSuEZDDk"
      }
    },
    {
      "cell_type": "markdown",
      "source": [
        "## Maximum and minimum loops\n",
        "To find the largest value in a list or sequence, we construct the following loop:"
      ],
      "metadata": {
        "id": "Is5HZlA-MkE2"
      }
    },
    {
      "cell_type": "code",
      "source": [
        "largest = None  # Initialize largest as None (no value assigned yet)\n",
        "print('Before:', largest)  # Print the initial value of largest\n",
        "\n",
        "# Iterate through the list of numbers\n",
        "for itervar in [3, 41, 12, 9, 74, 15]:\n",
        "    if largest is None or itervar > largest:  # Check if largest is None or if itervar is greater than largest\n",
        "        largest = itervar  # Update largest with the new highest value\n",
        "    print('Loop:', itervar, largest)  # Print the current number and the largest value so far\n",
        "\n",
        "print('Largest:', largest)  # Print the final largest number after the loop\n"
      ],
      "metadata": {
        "colab": {
          "base_uri": "https://localhost:8080/"
        },
        "id": "5jl0B66AObuu",
        "outputId": "85f03f31-7b3a-46ef-f026-e3a56bfdefc0"
      },
      "execution_count": 4,
      "outputs": [
        {
          "output_type": "stream",
          "name": "stdout",
          "text": [
            "Before: None\n",
            "Loop: 3 3\n",
            "Loop: 41 41\n",
            "Loop: 12 41\n",
            "Loop: 9 41\n",
            "Loop: 74 74\n",
            "Loop: 15 74\n",
            "Largest: 74\n"
          ]
        }
      ]
    },
    {
      "cell_type": "markdown",
      "source": [
        "The variable `largest` is best thought of as the “largest value we have seen so far”. Before the loop, we set `largest` to the constant `None`. None is a special constant value which we can store in a variable to mark the variable as “empty”.\n",
        "\n",
        "Before the loop starts, the largest value we have seen so far is `None` since we have not yet seen any values. While the loop is executing, if `largest` is None then we take the first value we see as the largest so far. You can see in the first iteration when the value of `itervar` is 3, since largest is `None`, we immediately set `largest` to be 3.\n",
        "\n",
        "After the first iteration, `largest` is no longer `None`, so the second part of the compound logical expression that checks `itervar > largest` triggers only when we see a value that is larger than the “largest so far”. When we see a new “even larger” value we take that new value for `largest`. You can see in the program output that `largest` progresses from 3 to 41 to 74.\n",
        "\n",
        "At the end of the loop, we have scanned all of the values and the variable largest now does contain the `largest` value in the list.\n",
        "To compute the `smallest` number, the code is very similar with one small change:"
      ],
      "metadata": {
        "id": "2Ab_J5MuOyWe"
      }
    },
    {
      "cell_type": "code",
      "source": [
        "smallest = None  # Initialize smallest as None (no value assigned yet)\n",
        "print('Before:', smallest)  # Print the initial value of smallest\n",
        "\n",
        "# Iterate through the list of numbers\n",
        "for itervar in [3, 41, 12, 9, 74, 15]:\n",
        "    if smallest is None or itervar < smallest:  # Check if smallest is None or if itervar is smaller than smallest\n",
        "        smallest = itervar  # Update smallest with the new lowest value\n",
        "    print('Loop:', itervar, smallest)  # Print the current number and the smallest value so far\n",
        "\n",
        "print('Smallest:', smallest)  # Print the final smallest number after the loop\n"
      ],
      "metadata": {
        "colab": {
          "base_uri": "https://localhost:8080/"
        },
        "id": "MzAAGywCPHoM",
        "outputId": "85d85a16-566b-4170-c050-35eb04998454"
      },
      "execution_count": 5,
      "outputs": [
        {
          "output_type": "stream",
          "name": "stdout",
          "text": [
            "Before: None\n",
            "Loop: 3 3\n",
            "Loop: 41 3\n",
            "Loop: 12 3\n",
            "Loop: 9 3\n",
            "Loop: 74 3\n",
            "Loop: 15 3\n",
            "Smallest: 3\n"
          ]
        }
      ]
    },
    {
      "cell_type": "markdown",
      "source": [
        "Again, `smallest` is the “smallest so far” before, during, and after the loop executes. When the loop has completed, `smallest` contains the minimum value in the list.\n",
        "\n",
        "Again as in counting and summing, the built-in functions `max()` and `min()` make writing these exact loops unnecessary.\n",
        "\n",
        "**What if I set smallest = 0 at the beginning of the iteration?**"
      ],
      "metadata": {
        "id": "Mw_pzQzxPnYm"
      }
    },
    {
      "cell_type": "code",
      "source": [
        "smallest = 0\n",
        "print('Before:', smallest)\n",
        "for itervar in [3, 41, 12, 9, 74, 15]:\n",
        "    if smallest is None or itervar < smallest:\n",
        "        smallest = itervar\n",
        "    print('Loop:', itervar, smallest)\n",
        "print('Smallest:', smallest)"
      ],
      "metadata": {
        "colab": {
          "base_uri": "https://localhost:8080/"
        },
        "id": "U6-OtLbBP4KF",
        "outputId": "25133a54-0902-4352-cbe3-5138fa23a0cf"
      },
      "execution_count": null,
      "outputs": [
        {
          "output_type": "stream",
          "name": "stdout",
          "text": [
            "Before: 0\n",
            "Loop: 3 0\n",
            "Loop: 41 0\n",
            "Loop: 12 0\n",
            "Loop: 9 0\n",
            "Loop: 74 0\n",
            "Loop: 15 0\n",
            "Smallest: 0\n"
          ]
        }
      ]
    },
    {
      "cell_type": "markdown",
      "source": [
        "Incorrect result for lists with only positive numbers: If you set `smallest = 0`, the code will never find any number smaller than `0` in a list of positive numbers. This would make the initial value 0 stay unchanged, which is incorrect if we’re trying to find the smallest number in a list like `[3, 41, 12, 9, 74, 15]`. The correct smallest value here is `3`, not `0`.\n",
        "\n",
        "**Solution Alternatives**\n",
        "The best practice is to start with `smallest = None` or initialize `smallest` to the first element in the list, like this:"
      ],
      "metadata": {
        "id": "zN3Hp6huQyTt"
      }
    },
    {
      "cell_type": "code",
      "source": [
        "numbers = [3, 41, 12, 9, 74, 15]\n",
        "smallest = numbers[0]  # Start with the first number in the list\n",
        "\n",
        "for itervar in numbers:\n",
        "    if itervar < smallest:\n",
        "        smallest = itervar\n",
        "print(\"Smallest:\", smallest)"
      ],
      "metadata": {
        "colab": {
          "base_uri": "https://localhost:8080/"
        },
        "id": "DCvblPlVQ5AV",
        "outputId": "9cb79930-0c4c-4928-8e27-f0ebc414a579"
      },
      "execution_count": null,
      "outputs": [
        {
          "output_type": "stream",
          "name": "stdout",
          "text": [
            "Smallest: 3\n"
          ]
        }
      ]
    },
    {
      "cell_type": "markdown",
      "source": [
        "**Can I change the `print()` in the `for` loop into `return`?**"
      ],
      "metadata": {
        "id": "D2n9uAgoRnid"
      }
    },
    {
      "cell_type": "markdown",
      "source": [
        "The `return` statement is used within functions to send a result back to where the function was called, so it can only be used in a function, not directly within a `for` loop outside of one.\n",
        "\n",
        "BUT, you can convert this example into a function that returns the smallest value in a list."
      ],
      "metadata": {
        "id": "eLktLWDyR3MF"
      }
    },
    {
      "cell_type": "code",
      "source": [
        "def find_smallest(numbers):\n",
        "    smallest = numbers[0]  # Initialize with the first number in the list\n",
        "    for itervar in numbers:\n",
        "        if itervar < smallest:\n",
        "            smallest = itervar\n",
        "    return smallest  # Return the smallest value found\n",
        "\n",
        "# Example usage\n",
        "numbers = [3, 41, 12, 9, 74, 15]\n",
        "print(\"Smallest:\", find_smallest(numbers))\n"
      ],
      "metadata": {
        "colab": {
          "base_uri": "https://localhost:8080/"
        },
        "id": "QvzagRUcSHF_",
        "outputId": "36c588d2-0b42-43e5-90d4-ef695393d4bd"
      },
      "execution_count": null,
      "outputs": [
        {
          "output_type": "stream",
          "name": "stdout",
          "text": [
            "Smallest: 3\n"
          ]
        }
      ]
    },
    {
      "cell_type": "markdown",
      "source": [
        "**Can I use a `while` loop instead of a `for` loop to iterate over the list?**"
      ],
      "metadata": {
        "id": "dkkISUvJTJAs"
      }
    },
    {
      "cell_type": "code",
      "source": [
        "def find_smallest(numbers):\n",
        "    if not numbers:  # Check if the list is empty\n",
        "        return None  # Return None if there are no elements\n",
        "\n",
        "    smallest = numbers[0]  # Initialize with the first number in the list\n",
        "    index = 1  # Start from the second element since the first is already assigned to 'smallest'\n",
        "\n",
        "    while index < len(numbers):\n",
        "        if numbers[index] < smallest:\n",
        "            smallest = numbers[index]\n",
        "        index += 1  # Move to the next index\n",
        "\n",
        "    return smallest  # Return the smallest value found\n",
        "\n",
        "# Example usage\n",
        "numbers = [3, 41, 12, 9, 74, 15]\n",
        "print(\"Smallest:\", find_smallest(numbers))\n"
      ],
      "metadata": {
        "colab": {
          "base_uri": "https://localhost:8080/"
        },
        "id": "PguAUhtoTSw1",
        "outputId": "81d82409-0e70-43cf-8c9c-6c62ce0651fe"
      },
      "execution_count": null,
      "outputs": [
        {
          "output_type": "stream",
          "name": "stdout",
          "text": [
            "Smallest: 3\n"
          ]
        }
      ]
    },
    {
      "cell_type": "markdown",
      "source": [
        " **Explanation**\n",
        "\n",
        "1. **Initial Check**: `if not numbers` checks if the list is empty and returns `None` if it is.\n",
        "2. **Initialization**: `smallest = numbers[0]` sets the initial smallest value to the first element, and `index = 1` starts the counter at the second element.\n",
        "3. **`while` Loop**: The loop continues as long as `index` is less than the length of `numbers`.\n",
        "4. **Comparison and Update**: Each element is compared to `smallest`. If it’s smaller, `smallest` is updated.\n",
        "5. **Increment Index**: `index += 1` moves to the next element.\n",
        "6. **Return Statement**: The `return smallest` statement outputs the smallest value.\n",
        "\n",
        "Using a `while` loop allows you to control the iteration manually, which can be useful in cases where the iteration conditions are complex or variable."
      ],
      "metadata": {
        "id": "Ky2IIDF0VP0E"
      }
    },
    {
      "cell_type": "markdown",
      "source": [],
      "metadata": {
        "id": "jU99774OVm17"
      }
    }
  ]
}